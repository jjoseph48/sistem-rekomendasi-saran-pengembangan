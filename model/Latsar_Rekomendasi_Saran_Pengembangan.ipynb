{
 "cells": [
  {
   "cell_type": "markdown",
   "metadata": {
    "id": "zPPzFrjZ2z6h"
   },
   "source": [
    "# 1. Perkenalan Dataset\n",
    "Tahap pertama dalam pelaksanaan kegiatan ini adalah melakukan pengumpulan dan penyusunan dataset pegawai sebagai dasar untuk membangun sistem rekomendasi saran pengembangan berbasis machine learning.\n",
    "\n",
    "**1. Sumber Dataset**\n",
    "Dataset diperoleh dengan mengekstrak data dari beberapa aplikasi milik Kementerian Pariwisata, seperti E-Kinerja dan E-Talenta.\n",
    "- E-Talenta : digunakan untuk memperoleh data hasil assessment kompetensi pegawai yang masih berlaku.\n",
    "- E-Kinerja : digunakan untuk memperoleh data penilaian kinerja (SKP) pegawai tahun 2024.\n",
    "\n",
    "Selain itu, dilakukan pula pembuatan data dummy tambahan untuk melengkapi variasi kondisi gap kompetensi yang belum terwakili dalam data aktual, khususnya untuk gap >= 2 pada level kompetensi tertentu.\n",
    "\n",
    "\n",
    "**2. Ketentuan Dataset**\n",
    "\n",
    "- **Label** : dataset memiliki label yang dikaitkan dengan kompetensi pegawai dan terbagi ke dalam tiga aspek utama:\n",
    "  - Pengetahuan\n",
    "  - Keahlian\n",
    "  - Pribadi\n",
    "\n",
    "  Untuk setiap kompetensi yang memiliki gap, dibuat minimal satu saran pengembangan untuk masing-masin aspek. Misalnya, jika pegawai memiliki gap pada kompetensi \"Kerjasama\", maka akan terdapat tiga baris data, masing-masing berisi saran aspek pengetahuan, keahlian dan pribadi.\n",
    "  - **Jumlah Baris** : Dataset yang digunakan memiliki minimal 1000 baris, gabungan antara data pegawai aktual dan data dummy, untuk memastikan ukuran data cukup besar untuk keperluan analisis dan pelatihan model machine learning.\n",
    "  - **Tipe Data** : dataset terdiri dari kombinasi variabel kategorikal dan numerikal\n",
    "    - Kategorikal : level kompetensi, aspek\n",
    "    - Numerikal : nilai, gap\n",
    "\n",
    "**3. Pembatasan**\n",
    "Dataset adalah sampel data pegawai kementerian pariwisata yang telah melakukan assessment maksimal tahun 2022 dan memiliki penilaian SKP di tahun 2024. Data dummy dibuat dengan struktur yang sama seperti data aktual, tetapi menggunakan informasi fiktif (khususnya untuk satker dan jabatan) untuk menjaga konsistensi format tanpa melanggar kerahasiaan data pegawai.\n",
    "\n",
    "\n"
   ]
  },
  {
   "cell_type": "markdown",
   "metadata": {
    "id": "okUxsoYF4Jhr"
   },
   "source": [
    "# 2. Import Library\n",
    "Pada tahap ini, Anda perlu mengimpor beberapa pustaka (library) Python yang dibutuhkan untuk analisis data dan pembangunan model machine learning."
   ]
  },
  {
   "cell_type": "code",
   "execution_count": 23,
   "metadata": {
    "id": "EKvY6GJuPFWf"
   },
   "outputs": [],
   "source": [
    "import pandas as pd\n",
    "from sklearn.model_selection import train_test_split\n",
    "from sklearn.preprocessing import StandardScaler, OneHotEncoder\n",
    "from sklearn.compose import ColumnTransformer\n",
    "from sklearn.pipeline import Pipeline\n",
    "from imblearn.over_sampling import SMOTE\n",
    "from sklearn.preprocessing import LabelEncoder\n",
    "from sklearn.metrics.pairwise import cosine_similarity\n",
    "import numpy as np"
   ]
  },
  {
   "cell_type": "markdown",
   "metadata": {
    "id": "bojMuEtAPHLN"
   },
   "source": [
    "# 3. Memuat Dataset\n",
    "\n",
    "Pada tahap ini, dimuat dataset ke dalam notebook. Dataset memiliki format CSV, maka perlu dicek beberapa baris awal untuk memahami struktur dan memastikan data telah dimuat dengan benar"
   ]
  },
  {
   "cell_type": "code",
   "execution_count": 24,
   "metadata": {
    "colab": {
     "base_uri": "https://localhost:8080/"
    },
    "executionInfo": {
     "elapsed": 224,
     "status": "ok",
     "timestamp": 1759927162027,
     "user": {
      "displayName": "Josephine Diva Ayurveda Verol",
      "userId": "12933869282444868046"
     },
     "user_tz": -420
    },
    "id": "4GRVGCKiPcJ2",
    "outputId": "51064aba-1bc5-465e-a0cb-7561df008a3f"
   },
   "outputs": [
    {
     "name": "stderr",
     "output_type": "stream",
     "text": [
      "<>:1: SyntaxWarning: invalid escape sequence '\\J'\n",
      "<>:1: SyntaxWarning: invalid escape sequence '\\J'\n",
      "C:\\Users\\josep\\AppData\\Local\\Temp\\ipykernel_6804\\2428400297.py:1: SyntaxWarning: invalid escape sequence '\\J'\n",
      "  history_recomm_real_data = pd.read_csv(\"C:\\Josephine Work File - 2025\\Latsar Aktualisasi\\sistem-rekomendasi-saran-pengembangan\\data\\dataset_dummy_recomendation - real_data.csv\")\n"
     ]
    },
    {
     "data": {
      "text/html": [
       "<div>\n",
       "<style scoped>\n",
       "    .dataframe tbody tr th:only-of-type {\n",
       "        vertical-align: middle;\n",
       "    }\n",
       "\n",
       "    .dataframe tbody tr th {\n",
       "        vertical-align: top;\n",
       "    }\n",
       "\n",
       "    .dataframe thead th {\n",
       "        text-align: right;\n",
       "    }\n",
       "</style>\n",
       "<table border=\"1\" class=\"dataframe\">\n",
       "  <thead>\n",
       "    <tr style=\"text-align: right;\">\n",
       "      <th></th>\n",
       "      <th>nama</th>\n",
       "      <th>nip</th>\n",
       "      <th>satker</th>\n",
       "      <th>jabatan</th>\n",
       "      <th>kinerja</th>\n",
       "      <th>kompetensi</th>\n",
       "      <th>standar level</th>\n",
       "      <th>nilai</th>\n",
       "      <th>gap</th>\n",
       "      <th>aspek</th>\n",
       "      <th>feedback_terakhir</th>\n",
       "      <th>saran_pengembangan</th>\n",
       "      <th>is_dummy</th>\n",
       "    </tr>\n",
       "  </thead>\n",
       "  <tbody>\n",
       "    <tr>\n",
       "      <th>0</th>\n",
       "      <td>ni made ayu marthini</td>\n",
       "      <td>197105121996032001</td>\n",
       "      <td>deputi bidang pemasaran</td>\n",
       "      <td>deputi bidang pemasaran</td>\n",
       "      <td>baik</td>\n",
       "      <td>integritas</td>\n",
       "      <td>5</td>\n",
       "      <td>4.60</td>\n",
       "      <td>-0.40</td>\n",
       "      <td>keahlian</td>\n",
       "      <td>Sangat Efektif</td>\n",
       "      <td>penugasan khusus</td>\n",
       "      <td>0.0</td>\n",
       "    </tr>\n",
       "    <tr>\n",
       "      <th>1</th>\n",
       "      <td>ni made ayu marthini</td>\n",
       "      <td>197105121996032001</td>\n",
       "      <td>deputi bidang pemasaran</td>\n",
       "      <td>deputi bidang pemasaran</td>\n",
       "      <td>baik</td>\n",
       "      <td>integritas</td>\n",
       "      <td>5</td>\n",
       "      <td>4.60</td>\n",
       "      <td>-0.40</td>\n",
       "      <td>pengetahuan</td>\n",
       "      <td>Sangat Efektif</td>\n",
       "      <td>patok banding</td>\n",
       "      <td>0.0</td>\n",
       "    </tr>\n",
       "    <tr>\n",
       "      <th>2</th>\n",
       "      <td>ni made ayu marthini</td>\n",
       "      <td>197105121996032001</td>\n",
       "      <td>deputi bidang pemasaran</td>\n",
       "      <td>deputi bidang pemasaran</td>\n",
       "      <td>baik</td>\n",
       "      <td>integritas</td>\n",
       "      <td>5</td>\n",
       "      <td>4.60</td>\n",
       "      <td>-0.40</td>\n",
       "      <td>personal atribute</td>\n",
       "      <td>Sangat Efektif</td>\n",
       "      <td>konseling</td>\n",
       "      <td>0.0</td>\n",
       "    </tr>\n",
       "    <tr>\n",
       "      <th>3</th>\n",
       "      <td>ni made ayu marthini</td>\n",
       "      <td>197105121996032001</td>\n",
       "      <td>deputi bidang pemasaran</td>\n",
       "      <td>deputi bidang pemasaran</td>\n",
       "      <td>baik</td>\n",
       "      <td>kerjasama</td>\n",
       "      <td>5</td>\n",
       "      <td>4.83</td>\n",
       "      <td>-0.17</td>\n",
       "      <td>pengetahuan</td>\n",
       "      <td>Sangat Efektif</td>\n",
       "      <td>patok banding</td>\n",
       "      <td>0.0</td>\n",
       "    </tr>\n",
       "    <tr>\n",
       "      <th>4</th>\n",
       "      <td>ni made ayu marthini</td>\n",
       "      <td>197105121996032001</td>\n",
       "      <td>deputi bidang pemasaran</td>\n",
       "      <td>deputi bidang pemasaran</td>\n",
       "      <td>baik</td>\n",
       "      <td>kerjasama</td>\n",
       "      <td>5</td>\n",
       "      <td>4.83</td>\n",
       "      <td>-0.17</td>\n",
       "      <td>keahlian</td>\n",
       "      <td>Sangat Efektif</td>\n",
       "      <td>pelatihan lemhannas</td>\n",
       "      <td>0.0</td>\n",
       "    </tr>\n",
       "  </tbody>\n",
       "</table>\n",
       "</div>"
      ],
      "text/plain": [
       "                   nama                 nip                   satker  \\\n",
       "0  ni made ayu marthini  197105121996032001  deputi bidang pemasaran   \n",
       "1  ni made ayu marthini  197105121996032001  deputi bidang pemasaran   \n",
       "2  ni made ayu marthini  197105121996032001  deputi bidang pemasaran   \n",
       "3  ni made ayu marthini  197105121996032001  deputi bidang pemasaran   \n",
       "4  ni made ayu marthini  197105121996032001  deputi bidang pemasaran   \n",
       "\n",
       "                   jabatan kinerja  kompetensi  standar level  nilai   gap  \\\n",
       "0  deputi bidang pemasaran    baik  integritas              5   4.60 -0.40   \n",
       "1  deputi bidang pemasaran    baik  integritas              5   4.60 -0.40   \n",
       "2  deputi bidang pemasaran    baik  integritas              5   4.60 -0.40   \n",
       "3  deputi bidang pemasaran    baik   kerjasama              5   4.83 -0.17   \n",
       "4  deputi bidang pemasaran    baik   kerjasama              5   4.83 -0.17   \n",
       "\n",
       "               aspek feedback_terakhir   saran_pengembangan  is_dummy  \n",
       "0           keahlian    Sangat Efektif     penugasan khusus       0.0  \n",
       "1        pengetahuan    Sangat Efektif        patok banding       0.0  \n",
       "2  personal atribute    Sangat Efektif            konseling       0.0  \n",
       "3        pengetahuan    Sangat Efektif        patok banding       0.0  \n",
       "4           keahlian    Sangat Efektif  pelatihan lemhannas       0.0  "
      ]
     },
     "execution_count": 24,
     "metadata": {},
     "output_type": "execute_result"
    }
   ],
   "source": [
    "history_recomm_real_data = pd.read_csv(\"C:\\Josephine Work File - 2025\\Latsar Aktualisasi\\sistem-rekomendasi-saran-pengembangan\\data\\dataset_dummy_recomendation - real_data.csv\")\n",
    "history_recomm_real_data.head()"
   ]
  },
  {
   "cell_type": "code",
   "execution_count": 25,
   "metadata": {
    "id": "ZhUq4js3selp"
   },
   "outputs": [],
   "source": [
    "history_recomm_real_data[\"nip\"] = history_recomm_real_data[\"nip\"].astype(str)"
   ]
  },
  {
   "cell_type": "code",
   "execution_count": 26,
   "metadata": {
    "colab": {
     "base_uri": "https://localhost:8080/"
    },
    "executionInfo": {
     "elapsed": 151,
     "status": "ok",
     "timestamp": 1759927162186,
     "user": {
      "displayName": "Josephine Diva Ayurveda Verol",
      "userId": "12933869282444868046"
     },
     "user_tz": -420
    },
    "id": "PfDIMCGiUDgQ",
    "outputId": "ef4511e9-540f-44c0-e7e9-c65d7b1f473f"
   },
   "outputs": [
    {
     "name": "stderr",
     "output_type": "stream",
     "text": [
      "<>:1: SyntaxWarning: invalid escape sequence '\\J'\n",
      "<>:1: SyntaxWarning: invalid escape sequence '\\J'\n",
      "C:\\Users\\josep\\AppData\\Local\\Temp\\ipykernel_6804\\2054136291.py:1: SyntaxWarning: invalid escape sequence '\\J'\n",
      "  history_recomm_dummy_data = pd.read_csv(\"C:\\Josephine Work File - 2025\\Latsar Aktualisasi\\sistem-rekomendasi-saran-pengembangan\\data\\dataset_dummy_recomendation - dummy_data.csv\")\n"
     ]
    },
    {
     "data": {
      "text/html": [
       "<div>\n",
       "<style scoped>\n",
       "    .dataframe tbody tr th:only-of-type {\n",
       "        vertical-align: middle;\n",
       "    }\n",
       "\n",
       "    .dataframe tbody tr th {\n",
       "        vertical-align: top;\n",
       "    }\n",
       "\n",
       "    .dataframe thead th {\n",
       "        text-align: right;\n",
       "    }\n",
       "</style>\n",
       "<table border=\"1\" class=\"dataframe\">\n",
       "  <thead>\n",
       "    <tr style=\"text-align: right;\">\n",
       "      <th></th>\n",
       "      <th>nama</th>\n",
       "      <th>nip</th>\n",
       "      <th>satker</th>\n",
       "      <th>jabatan</th>\n",
       "      <th>kinerja</th>\n",
       "      <th>kompetensi</th>\n",
       "      <th>standar level</th>\n",
       "      <th>nilai</th>\n",
       "      <th>gap</th>\n",
       "      <th>aspek</th>\n",
       "      <th>feedback_terakhir</th>\n",
       "      <th>saran_pengembangan</th>\n",
       "      <th>is_dummy</th>\n",
       "    </tr>\n",
       "  </thead>\n",
       "  <tbody>\n",
       "    <tr>\n",
       "      <th>0</th>\n",
       "      <td>dummy 1</td>\n",
       "      <td>NaN</td>\n",
       "      <td>NaN</td>\n",
       "      <td>NaN</td>\n",
       "      <td>baik</td>\n",
       "      <td>integritas</td>\n",
       "      <td>5</td>\n",
       "      <td>3</td>\n",
       "      <td>-2</td>\n",
       "      <td>pengetahuan</td>\n",
       "      <td>efektif</td>\n",
       "      <td>pelatihan kode etik dan kode perilaku</td>\n",
       "      <td>1</td>\n",
       "    </tr>\n",
       "    <tr>\n",
       "      <th>1</th>\n",
       "      <td>dummy 1</td>\n",
       "      <td>NaN</td>\n",
       "      <td>NaN</td>\n",
       "      <td>NaN</td>\n",
       "      <td>baik</td>\n",
       "      <td>integritas</td>\n",
       "      <td>5</td>\n",
       "      <td>3</td>\n",
       "      <td>-2</td>\n",
       "      <td>keahlian</td>\n",
       "      <td>sangat efektif</td>\n",
       "      <td>bimbingan teknis</td>\n",
       "      <td>1</td>\n",
       "    </tr>\n",
       "    <tr>\n",
       "      <th>2</th>\n",
       "      <td>dummy 1</td>\n",
       "      <td>NaN</td>\n",
       "      <td>NaN</td>\n",
       "      <td>NaN</td>\n",
       "      <td>baik</td>\n",
       "      <td>integritas</td>\n",
       "      <td>5</td>\n",
       "      <td>3</td>\n",
       "      <td>-2</td>\n",
       "      <td>personal atribute</td>\n",
       "      <td>efektif</td>\n",
       "      <td>konseling</td>\n",
       "      <td>1</td>\n",
       "    </tr>\n",
       "    <tr>\n",
       "      <th>3</th>\n",
       "      <td>dummy 1</td>\n",
       "      <td>NaN</td>\n",
       "      <td>NaN</td>\n",
       "      <td>NaN</td>\n",
       "      <td>baik</td>\n",
       "      <td>kerjasama</td>\n",
       "      <td>5</td>\n",
       "      <td>3</td>\n",
       "      <td>-2</td>\n",
       "      <td>pengetahuan</td>\n",
       "      <td>tidak efektif</td>\n",
       "      <td>pembelajaran mandiri</td>\n",
       "      <td>1</td>\n",
       "    </tr>\n",
       "    <tr>\n",
       "      <th>4</th>\n",
       "      <td>dummy 1</td>\n",
       "      <td>NaN</td>\n",
       "      <td>NaN</td>\n",
       "      <td>NaN</td>\n",
       "      <td>baik</td>\n",
       "      <td>kerjasama</td>\n",
       "      <td>5</td>\n",
       "      <td>3</td>\n",
       "      <td>-2</td>\n",
       "      <td>keahlian</td>\n",
       "      <td>efektif</td>\n",
       "      <td>pelatihan lemhannas</td>\n",
       "      <td>1</td>\n",
       "    </tr>\n",
       "  </tbody>\n",
       "</table>\n",
       "</div>"
      ],
      "text/plain": [
       "      nama  nip  satker  jabatan kinerja  kompetensi  standar level  nilai  \\\n",
       "0  dummy 1  NaN     NaN      NaN    baik  integritas              5      3   \n",
       "1  dummy 1  NaN     NaN      NaN    baik  integritas              5      3   \n",
       "2  dummy 1  NaN     NaN      NaN    baik  integritas              5      3   \n",
       "3  dummy 1  NaN     NaN      NaN    baik   kerjasama              5      3   \n",
       "4  dummy 1  NaN     NaN      NaN    baik   kerjasama              5      3   \n",
       "\n",
       "   gap              aspek feedback_terakhir  \\\n",
       "0   -2        pengetahuan           efektif   \n",
       "1   -2           keahlian    sangat efektif   \n",
       "2   -2  personal atribute           efektif   \n",
       "3   -2        pengetahuan     tidak efektif   \n",
       "4   -2           keahlian           efektif   \n",
       "\n",
       "                      saran_pengembangan  is_dummy  \n",
       "0  pelatihan kode etik dan kode perilaku         1  \n",
       "1                       bimbingan teknis         1  \n",
       "2                              konseling         1  \n",
       "3                   pembelajaran mandiri         1  \n",
       "4                    pelatihan lemhannas         1  "
      ]
     },
     "execution_count": 26,
     "metadata": {},
     "output_type": "execute_result"
    }
   ],
   "source": [
    "history_recomm_dummy_data = pd.read_csv(\"C:\\Josephine Work File - 2025\\Latsar Aktualisasi\\sistem-rekomendasi-saran-pengembangan\\data\\dataset_dummy_recomendation - dummy_data.csv\")\n",
    "history_recomm_dummy_data.head()"
   ]
  },
  {
   "cell_type": "markdown",
   "metadata": {
    "id": "I27bfP9zWxkm"
   },
   "source": [
    "**Gabungkan data historis dan data dummy menjadi satu dataset utuh**"
   ]
  },
  {
   "cell_type": "code",
   "execution_count": 27,
   "metadata": {
    "colab": {
     "base_uri": "https://localhost:8080/"
    },
    "executionInfo": {
     "elapsed": 33,
     "status": "ok",
     "timestamp": 1759927162221,
     "user": {
      "displayName": "Josephine Diva Ayurveda Verol",
      "userId": "12933869282444868046"
     },
     "user_tz": -420
    },
    "id": "_IQHaAinW8p4",
    "outputId": "9eb826a5-9cd1-445a-d2ca-db512a0ca0ec"
   },
   "outputs": [
    {
     "name": "stdout",
     "output_type": "stream",
     "text": [
      "Dataset final memiliki 2820 baris\n"
     ]
    }
   ],
   "source": [
    "combined_df = pd.concat([history_recomm_real_data, history_recomm_dummy_data], ignore_index=True)\n",
    "\n",
    "# gabung dan cek apakah ada duplikasi baris\n",
    "combined_df.drop_duplicates(inplace=True)\n",
    "\n",
    "# simpan hasil gabungan\n",
    "combined_df.to_csv('dataset_combined.csv', index=False)\n",
    "\n",
    "print(f\"Dataset final memiliki {len(combined_df)} baris\")"
   ]
  },
  {
   "cell_type": "code",
   "execution_count": 28,
   "metadata": {
    "colab": {
     "base_uri": "https://localhost:8080/"
    },
    "executionInfo": {
     "elapsed": 84,
     "status": "ok",
     "timestamp": 1759927162309,
     "user": {
      "displayName": "Josephine Diva Ayurveda Verol",
      "userId": "12933869282444868046"
     },
     "user_tz": -420
    },
    "id": "vXBiYs6wr8UX",
    "outputId": "c3bf0f40-f541-4186-c8bc-12e9be92942c"
   },
   "outputs": [
    {
     "data": {
      "text/html": [
       "<div>\n",
       "<style scoped>\n",
       "    .dataframe tbody tr th:only-of-type {\n",
       "        vertical-align: middle;\n",
       "    }\n",
       "\n",
       "    .dataframe tbody tr th {\n",
       "        vertical-align: top;\n",
       "    }\n",
       "\n",
       "    .dataframe thead th {\n",
       "        text-align: right;\n",
       "    }\n",
       "</style>\n",
       "<table border=\"1\" class=\"dataframe\">\n",
       "  <thead>\n",
       "    <tr style=\"text-align: right;\">\n",
       "      <th></th>\n",
       "      <th>nama</th>\n",
       "      <th>nip</th>\n",
       "      <th>satker</th>\n",
       "      <th>jabatan</th>\n",
       "      <th>kinerja</th>\n",
       "      <th>kompetensi</th>\n",
       "      <th>standar level</th>\n",
       "      <th>nilai</th>\n",
       "      <th>gap</th>\n",
       "      <th>aspek</th>\n",
       "      <th>feedback_terakhir</th>\n",
       "      <th>saran_pengembangan</th>\n",
       "      <th>is_dummy</th>\n",
       "    </tr>\n",
       "  </thead>\n",
       "  <tbody>\n",
       "    <tr>\n",
       "      <th>0</th>\n",
       "      <td>ni made ayu marthini</td>\n",
       "      <td>197105121996032001</td>\n",
       "      <td>deputi bidang pemasaran</td>\n",
       "      <td>deputi bidang pemasaran</td>\n",
       "      <td>baik</td>\n",
       "      <td>integritas</td>\n",
       "      <td>5</td>\n",
       "      <td>4.60</td>\n",
       "      <td>-0.40</td>\n",
       "      <td>keahlian</td>\n",
       "      <td>Sangat Efektif</td>\n",
       "      <td>penugasan khusus</td>\n",
       "      <td>0.0</td>\n",
       "    </tr>\n",
       "    <tr>\n",
       "      <th>1</th>\n",
       "      <td>ni made ayu marthini</td>\n",
       "      <td>197105121996032001</td>\n",
       "      <td>deputi bidang pemasaran</td>\n",
       "      <td>deputi bidang pemasaran</td>\n",
       "      <td>baik</td>\n",
       "      <td>integritas</td>\n",
       "      <td>5</td>\n",
       "      <td>4.60</td>\n",
       "      <td>-0.40</td>\n",
       "      <td>pengetahuan</td>\n",
       "      <td>Sangat Efektif</td>\n",
       "      <td>patok banding</td>\n",
       "      <td>0.0</td>\n",
       "    </tr>\n",
       "    <tr>\n",
       "      <th>2</th>\n",
       "      <td>ni made ayu marthini</td>\n",
       "      <td>197105121996032001</td>\n",
       "      <td>deputi bidang pemasaran</td>\n",
       "      <td>deputi bidang pemasaran</td>\n",
       "      <td>baik</td>\n",
       "      <td>integritas</td>\n",
       "      <td>5</td>\n",
       "      <td>4.60</td>\n",
       "      <td>-0.40</td>\n",
       "      <td>personal atribute</td>\n",
       "      <td>Sangat Efektif</td>\n",
       "      <td>konseling</td>\n",
       "      <td>0.0</td>\n",
       "    </tr>\n",
       "    <tr>\n",
       "      <th>3</th>\n",
       "      <td>ni made ayu marthini</td>\n",
       "      <td>197105121996032001</td>\n",
       "      <td>deputi bidang pemasaran</td>\n",
       "      <td>deputi bidang pemasaran</td>\n",
       "      <td>baik</td>\n",
       "      <td>kerjasama</td>\n",
       "      <td>5</td>\n",
       "      <td>4.83</td>\n",
       "      <td>-0.17</td>\n",
       "      <td>pengetahuan</td>\n",
       "      <td>Sangat Efektif</td>\n",
       "      <td>patok banding</td>\n",
       "      <td>0.0</td>\n",
       "    </tr>\n",
       "    <tr>\n",
       "      <th>4</th>\n",
       "      <td>ni made ayu marthini</td>\n",
       "      <td>197105121996032001</td>\n",
       "      <td>deputi bidang pemasaran</td>\n",
       "      <td>deputi bidang pemasaran</td>\n",
       "      <td>baik</td>\n",
       "      <td>kerjasama</td>\n",
       "      <td>5</td>\n",
       "      <td>4.83</td>\n",
       "      <td>-0.17</td>\n",
       "      <td>keahlian</td>\n",
       "      <td>Sangat Efektif</td>\n",
       "      <td>pelatihan lemhannas</td>\n",
       "      <td>0.0</td>\n",
       "    </tr>\n",
       "  </tbody>\n",
       "</table>\n",
       "</div>"
      ],
      "text/plain": [
       "                   nama                 nip                   satker  \\\n",
       "0  ni made ayu marthini  197105121996032001  deputi bidang pemasaran   \n",
       "1  ni made ayu marthini  197105121996032001  deputi bidang pemasaran   \n",
       "2  ni made ayu marthini  197105121996032001  deputi bidang pemasaran   \n",
       "3  ni made ayu marthini  197105121996032001  deputi bidang pemasaran   \n",
       "4  ni made ayu marthini  197105121996032001  deputi bidang pemasaran   \n",
       "\n",
       "                   jabatan kinerja  kompetensi  standar level  nilai   gap  \\\n",
       "0  deputi bidang pemasaran    baik  integritas              5   4.60 -0.40   \n",
       "1  deputi bidang pemasaran    baik  integritas              5   4.60 -0.40   \n",
       "2  deputi bidang pemasaran    baik  integritas              5   4.60 -0.40   \n",
       "3  deputi bidang pemasaran    baik   kerjasama              5   4.83 -0.17   \n",
       "4  deputi bidang pemasaran    baik   kerjasama              5   4.83 -0.17   \n",
       "\n",
       "               aspek feedback_terakhir   saran_pengembangan  is_dummy  \n",
       "0           keahlian    Sangat Efektif     penugasan khusus       0.0  \n",
       "1        pengetahuan    Sangat Efektif        patok banding       0.0  \n",
       "2  personal atribute    Sangat Efektif            konseling       0.0  \n",
       "3        pengetahuan    Sangat Efektif        patok banding       0.0  \n",
       "4           keahlian    Sangat Efektif  pelatihan lemhannas       0.0  "
      ]
     },
     "execution_count": 28,
     "metadata": {},
     "output_type": "execute_result"
    }
   ],
   "source": [
    "combined_df.head()"
   ]
  },
  {
   "cell_type": "code",
   "execution_count": 29,
   "metadata": {
    "colab": {
     "base_uri": "https://localhost:8080/"
    },
    "executionInfo": {
     "elapsed": 70,
     "status": "ok",
     "timestamp": 1759927162424,
     "user": {
      "displayName": "Josephine Diva Ayurveda Verol",
      "userId": "12933869282444868046"
     },
     "user_tz": -420
    },
    "id": "MVYnIR41r46E",
    "outputId": "92fbecbf-2943-498d-d3fc-4bb266feca79"
   },
   "outputs": [
    {
     "data": {
      "text/html": [
       "<div>\n",
       "<style scoped>\n",
       "    .dataframe tbody tr th:only-of-type {\n",
       "        vertical-align: middle;\n",
       "    }\n",
       "\n",
       "    .dataframe tbody tr th {\n",
       "        vertical-align: top;\n",
       "    }\n",
       "\n",
       "    .dataframe thead th {\n",
       "        text-align: right;\n",
       "    }\n",
       "</style>\n",
       "<table border=\"1\" class=\"dataframe\">\n",
       "  <thead>\n",
       "    <tr style=\"text-align: right;\">\n",
       "      <th></th>\n",
       "      <th>nama</th>\n",
       "      <th>nip</th>\n",
       "      <th>satker</th>\n",
       "      <th>jabatan</th>\n",
       "      <th>kinerja</th>\n",
       "      <th>kompetensi</th>\n",
       "      <th>standar level</th>\n",
       "      <th>nilai</th>\n",
       "      <th>gap</th>\n",
       "      <th>aspek</th>\n",
       "      <th>feedback_terakhir</th>\n",
       "      <th>saran_pengembangan</th>\n",
       "      <th>is_dummy</th>\n",
       "    </tr>\n",
       "  </thead>\n",
       "  <tbody>\n",
       "    <tr>\n",
       "      <th>2820</th>\n",
       "      <td>dummy 19</td>\n",
       "      <td>NaN</td>\n",
       "      <td>NaN</td>\n",
       "      <td>NaN</td>\n",
       "      <td>baik</td>\n",
       "      <td>perekat bangsa</td>\n",
       "      <td>2</td>\n",
       "      <td>0.0</td>\n",
       "      <td>-2.0</td>\n",
       "      <td>keahlian</td>\n",
       "      <td>cukup efektif</td>\n",
       "      <td>bimbingan teknis</td>\n",
       "      <td>1.0</td>\n",
       "    </tr>\n",
       "    <tr>\n",
       "      <th>2821</th>\n",
       "      <td>dummy 19</td>\n",
       "      <td>NaN</td>\n",
       "      <td>NaN</td>\n",
       "      <td>NaN</td>\n",
       "      <td>baik</td>\n",
       "      <td>perekat bangsa</td>\n",
       "      <td>2</td>\n",
       "      <td>0.0</td>\n",
       "      <td>-2.0</td>\n",
       "      <td>personal atribut</td>\n",
       "      <td>sangat efektif</td>\n",
       "      <td>pembelajaran alam terbuka</td>\n",
       "      <td>1.0</td>\n",
       "    </tr>\n",
       "    <tr>\n",
       "      <th>2822</th>\n",
       "      <td>dummy 19</td>\n",
       "      <td>NaN</td>\n",
       "      <td>NaN</td>\n",
       "      <td>NaN</td>\n",
       "      <td>baik</td>\n",
       "      <td>mengelola perubahan</td>\n",
       "      <td>2</td>\n",
       "      <td>0.0</td>\n",
       "      <td>-2.0</td>\n",
       "      <td>pengetahuan</td>\n",
       "      <td>efektif</td>\n",
       "      <td>e-learning</td>\n",
       "      <td>1.0</td>\n",
       "    </tr>\n",
       "    <tr>\n",
       "      <th>2823</th>\n",
       "      <td>dummy 19</td>\n",
       "      <td>NaN</td>\n",
       "      <td>NaN</td>\n",
       "      <td>NaN</td>\n",
       "      <td>baik</td>\n",
       "      <td>mengelola perubahan</td>\n",
       "      <td>2</td>\n",
       "      <td>0.0</td>\n",
       "      <td>-2.0</td>\n",
       "      <td>keahlian</td>\n",
       "      <td>cukup efektif</td>\n",
       "      <td>magang</td>\n",
       "      <td>1.0</td>\n",
       "    </tr>\n",
       "    <tr>\n",
       "      <th>2824</th>\n",
       "      <td>dummy 19</td>\n",
       "      <td>NaN</td>\n",
       "      <td>NaN</td>\n",
       "      <td>NaN</td>\n",
       "      <td>baik</td>\n",
       "      <td>mengelola perubahan</td>\n",
       "      <td>2</td>\n",
       "      <td>0.0</td>\n",
       "      <td>-2.0</td>\n",
       "      <td>personal atribut</td>\n",
       "      <td>sangat efektif</td>\n",
       "      <td>konseling</td>\n",
       "      <td>1.0</td>\n",
       "    </tr>\n",
       "  </tbody>\n",
       "</table>\n",
       "</div>"
      ],
      "text/plain": [
       "          nama  nip satker jabatan kinerja           kompetensi  \\\n",
       "2820  dummy 19  NaN    NaN     NaN    baik       perekat bangsa   \n",
       "2821  dummy 19  NaN    NaN     NaN    baik       perekat bangsa   \n",
       "2822  dummy 19  NaN    NaN     NaN    baik  mengelola perubahan   \n",
       "2823  dummy 19  NaN    NaN     NaN    baik  mengelola perubahan   \n",
       "2824  dummy 19  NaN    NaN     NaN    baik  mengelola perubahan   \n",
       "\n",
       "      standar level  nilai  gap             aspek feedback_terakhir  \\\n",
       "2820              2    0.0 -2.0          keahlian     cukup efektif   \n",
       "2821              2    0.0 -2.0  personal atribut    sangat efektif   \n",
       "2822              2    0.0 -2.0       pengetahuan           efektif   \n",
       "2823              2    0.0 -2.0          keahlian     cukup efektif   \n",
       "2824              2    0.0 -2.0  personal atribut    sangat efektif   \n",
       "\n",
       "             saran_pengembangan  is_dummy  \n",
       "2820           bimbingan teknis       1.0  \n",
       "2821  pembelajaran alam terbuka       1.0  \n",
       "2822                 e-learning       1.0  \n",
       "2823                     magang       1.0  \n",
       "2824                  konseling       1.0  "
      ]
     },
     "execution_count": 29,
     "metadata": {},
     "output_type": "execute_result"
    }
   ],
   "source": [
    "combined_df.tail()"
   ]
  },
  {
   "cell_type": "code",
   "execution_count": 30,
   "metadata": {
    "colab": {
     "base_uri": "https://localhost:8080/"
    },
    "executionInfo": {
     "elapsed": 8,
     "status": "ok",
     "timestamp": 1759927162431,
     "user": {
      "displayName": "Josephine Diva Ayurveda Verol",
      "userId": "12933869282444868046"
     },
     "user_tz": -420
    },
    "id": "uylHA64esPAL",
    "outputId": "82f9c9f8-e3ba-4956-bf45-0a0617dab527"
   },
   "outputs": [
    {
     "name": "stdout",
     "output_type": "stream",
     "text": [
      "<class 'pandas.core.frame.DataFrame'>\n",
      "Index: 2820 entries, 0 to 2824\n",
      "Data columns (total 13 columns):\n",
      " #   Column              Non-Null Count  Dtype  \n",
      "---  ------              --------------  -----  \n",
      " 0   nama                2820 non-null   object \n",
      " 1   nip                 2332 non-null   object \n",
      " 2   satker              2332 non-null   object \n",
      " 3   jabatan             2332 non-null   object \n",
      " 4   kinerja             2820 non-null   object \n",
      " 5   kompetensi          2820 non-null   object \n",
      " 6   standar level       2820 non-null   int64  \n",
      " 7   nilai               2820 non-null   float64\n",
      " 8   gap                 2820 non-null   float64\n",
      " 9   aspek               2820 non-null   object \n",
      " 10  feedback_terakhir   2820 non-null   object \n",
      " 11  saran_pengembangan  2820 non-null   object \n",
      " 12  is_dummy            1148 non-null   float64\n",
      "dtypes: float64(3), int64(1), object(9)\n",
      "memory usage: 308.4+ KB\n"
     ]
    }
   ],
   "source": [
    "combined_df.info()"
   ]
  },
  {
   "cell_type": "markdown",
   "metadata": {
    "id": "K_YyC0lMPrvg"
   },
   "source": [
    "# 4. Expoloratory Data Analysis (EDA)\n",
    "\n",
    "Pada tahap ini, dilakukan exploratory data analysis untuk memahami karakteristik dataset. EDA bertujuan untuk :\n",
    "\n",
    "1. **Memahami Struktur Data**\n",
    "    - Tinjau jumlah baris dan kolom dalam dataset\n",
    "    - Tinjau jenis data di setiap kolom (numerikal atau kategorikal)\n",
    "2. **Menangani Data yang Hilang**\n",
    "    - Identifikasi dan analisis data yang hilang (missing values) dengan pengisian data.\n",
    "3. **Analisis Distribusi dan Korelasi**\n",
    "    - Analisis distribusi variabel numerik dengan statistik deskriptif dan visualisasi seperti histogram.\n",
    "    - Periksa hubungan antara variabel menggunakan matriks korelasi\n",
    "4. **Visualisasi Data**\n",
    "    - Buat visualisasi dasar seperti grafik distribusi dan diagram batang untuk variabel kategorikal\n",
    "    - Gunakan heatmap untuk menganalisis korelasi antar variabel\n"
   ]
  },
  {
   "cell_type": "markdown",
   "metadata": {
    "id": "_lRdkyCnRISY"
   },
   "source": [
    "**Memahami Struktur Data**"
   ]
  },
  {
   "cell_type": "code",
   "execution_count": 31,
   "metadata": {
    "id": "DD2Qu2mOX2oq"
   },
   "outputs": [],
   "source": [
    "df = pd.read_csv('dataset_combined.csv')"
   ]
  },
  {
   "cell_type": "code",
   "execution_count": 32,
   "metadata": {
    "colab": {
     "base_uri": "https://localhost:8080/"
    },
    "executionInfo": {
     "elapsed": 47,
     "status": "ok",
     "timestamp": 1759928285270,
     "user": {
      "displayName": "Josephine Diva Ayurveda Verol",
      "userId": "12933869282444868046"
     },
     "user_tz": -420
    },
    "id": "u-RFefieRL1n",
    "outputId": "4526893d-ac0d-42ff-bc19-36e8f214701f"
   },
   "outputs": [
    {
     "name": "stdout",
     "output_type": "stream",
     "text": [
      "<class 'pandas.core.frame.DataFrame'>\n",
      "RangeIndex: 2820 entries, 0 to 2819\n",
      "Data columns (total 13 columns):\n",
      " #   Column              Non-Null Count  Dtype  \n",
      "---  ------              --------------  -----  \n",
      " 0   nama                2820 non-null   object \n",
      " 1   nip                 2332 non-null   float64\n",
      " 2   satker              2332 non-null   object \n",
      " 3   jabatan             2332 non-null   object \n",
      " 4   kinerja             2820 non-null   object \n",
      " 5   kompetensi          2820 non-null   object \n",
      " 6   standar level       2820 non-null   int64  \n",
      " 7   nilai               2820 non-null   float64\n",
      " 8   gap                 2820 non-null   float64\n",
      " 9   aspek               2820 non-null   object \n",
      " 10  feedback_terakhir   2820 non-null   object \n",
      " 11  saran_pengembangan  2820 non-null   object \n",
      " 12  is_dummy            1148 non-null   float64\n",
      "dtypes: float64(4), int64(1), object(8)\n",
      "memory usage: 286.5+ KB\n"
     ]
    }
   ],
   "source": [
    "df.info()"
   ]
  },
  {
   "cell_type": "markdown",
   "metadata": {
    "id": "2wMw-gHoKa-a"
   },
   "source": [
    "Dari output di atas, diketahui bahwa selain kolom nip, standar level, nilai, gap dan is_dummy, data pada kolom lain memiliki tipe object"
   ]
  },
  {
   "cell_type": "code",
   "execution_count": 33,
   "metadata": {
    "colab": {
     "base_uri": "https://localhost:8080/"
    },
    "executionInfo": {
     "elapsed": 15,
     "status": "ok",
     "timestamp": 1759928285287,
     "user": {
      "displayName": "Josephine Diva Ayurveda Verol",
      "userId": "12933869282444868046"
     },
     "user_tz": -420
    },
    "id": "XgYICDuDRPbF",
    "outputId": "caad634d-34ad-44fe-8d05-8c2a309cc995"
   },
   "outputs": [
    {
     "data": {
      "text/html": [
       "<div>\n",
       "<style scoped>\n",
       "    .dataframe tbody tr th:only-of-type {\n",
       "        vertical-align: middle;\n",
       "    }\n",
       "\n",
       "    .dataframe tbody tr th {\n",
       "        vertical-align: top;\n",
       "    }\n",
       "\n",
       "    .dataframe thead th {\n",
       "        text-align: right;\n",
       "    }\n",
       "</style>\n",
       "<table border=\"1\" class=\"dataframe\">\n",
       "  <thead>\n",
       "    <tr style=\"text-align: right;\">\n",
       "      <th></th>\n",
       "      <th>nip</th>\n",
       "      <th>standar level</th>\n",
       "      <th>nilai</th>\n",
       "      <th>gap</th>\n",
       "      <th>is_dummy</th>\n",
       "    </tr>\n",
       "  </thead>\n",
       "  <tbody>\n",
       "    <tr>\n",
       "      <th>count</th>\n",
       "      <td>2.332000e+03</td>\n",
       "      <td>2820.000000</td>\n",
       "      <td>2820.000000</td>\n",
       "      <td>2820.000000</td>\n",
       "      <td>1148.000000</td>\n",
       "    </tr>\n",
       "    <tr>\n",
       "      <th>mean</th>\n",
       "      <td>1.976483e+17</td>\n",
       "      <td>2.965603</td>\n",
       "      <td>2.141649</td>\n",
       "      <td>-0.818539</td>\n",
       "      <td>0.425087</td>\n",
       "    </tr>\n",
       "    <tr>\n",
       "      <th>std</th>\n",
       "      <td>9.479228e+14</td>\n",
       "      <td>1.364380</td>\n",
       "      <td>1.276675</td>\n",
       "      <td>1.221478</td>\n",
       "      <td>0.494572</td>\n",
       "    </tr>\n",
       "    <tr>\n",
       "      <th>min</th>\n",
       "      <td>1.962090e+17</td>\n",
       "      <td>1.000000</td>\n",
       "      <td>0.000000</td>\n",
       "      <td>-5.000000</td>\n",
       "      <td>0.000000</td>\n",
       "    </tr>\n",
       "    <tr>\n",
       "      <th>25%</th>\n",
       "      <td>1.969071e+17</td>\n",
       "      <td>2.000000</td>\n",
       "      <td>1.000000</td>\n",
       "      <td>-1.000000</td>\n",
       "      <td>0.000000</td>\n",
       "    </tr>\n",
       "    <tr>\n",
       "      <th>50%</th>\n",
       "      <td>1.973020e+17</td>\n",
       "      <td>3.000000</td>\n",
       "      <td>2.000000</td>\n",
       "      <td>-0.250000</td>\n",
       "      <td>0.000000</td>\n",
       "    </tr>\n",
       "    <tr>\n",
       "      <th>75%</th>\n",
       "      <td>1.982092e+17</td>\n",
       "      <td>4.000000</td>\n",
       "      <td>3.000000</td>\n",
       "      <td>0.000000</td>\n",
       "      <td>1.000000</td>\n",
       "    </tr>\n",
       "    <tr>\n",
       "      <th>max</th>\n",
       "      <td>1.999082e+17</td>\n",
       "      <td>5.000000</td>\n",
       "      <td>5.000000</td>\n",
       "      <td>1.000000</td>\n",
       "      <td>1.000000</td>\n",
       "    </tr>\n",
       "  </tbody>\n",
       "</table>\n",
       "</div>"
      ],
      "text/plain": [
       "                nip  standar level        nilai          gap     is_dummy\n",
       "count  2.332000e+03    2820.000000  2820.000000  2820.000000  1148.000000\n",
       "mean   1.976483e+17       2.965603     2.141649    -0.818539     0.425087\n",
       "std    9.479228e+14       1.364380     1.276675     1.221478     0.494572\n",
       "min    1.962090e+17       1.000000     0.000000    -5.000000     0.000000\n",
       "25%    1.969071e+17       2.000000     1.000000    -1.000000     0.000000\n",
       "50%    1.973020e+17       3.000000     2.000000    -0.250000     0.000000\n",
       "75%    1.982092e+17       4.000000     3.000000     0.000000     1.000000\n",
       "max    1.999082e+17       5.000000     5.000000     1.000000     1.000000"
      ]
     },
     "execution_count": 33,
     "metadata": {},
     "output_type": "execute_result"
    }
   ],
   "source": [
    "df.describe()"
   ]
  },
  {
   "cell_type": "code",
   "execution_count": 34,
   "metadata": {
    "colab": {
     "base_uri": "https://localhost:8080/"
    },
    "executionInfo": {
     "elapsed": 8,
     "status": "ok",
     "timestamp": 1759928285298,
     "user": {
      "displayName": "Josephine Diva Ayurveda Verol",
      "userId": "12933869282444868046"
     },
     "user_tz": -420
    },
    "id": "3SmecJ5_RVBI",
    "outputId": "9dbe3358-e4ad-4b75-854d-c81f0ac5f961"
   },
   "outputs": [
    {
     "data": {
      "text/plain": [
       "nama                     0\n",
       "nip                    488\n",
       "satker                 488\n",
       "jabatan                488\n",
       "kinerja                  0\n",
       "kompetensi               0\n",
       "standar level            0\n",
       "nilai                    0\n",
       "gap                      0\n",
       "aspek                    0\n",
       "feedback_terakhir        0\n",
       "saran_pengembangan       0\n",
       "is_dummy              1672\n",
       "dtype: int64"
      ]
     },
     "execution_count": 34,
     "metadata": {},
     "output_type": "execute_result"
    }
   ],
   "source": [
    "df.isnull().sum()"
   ]
  },
  {
   "cell_type": "markdown",
   "metadata": {
    "id": "mF_JJrquMrQG"
   },
   "source": [
    "Dari hasil pengecekan data kosong di atas, dataset memiliki nilai null pada baris nip, satker, jabatan dan is_dummy. Nilai null ini akan mempengaruhi pembangunan model ML dan perlu ditangani dengan pengisian data"
   ]
  },
  {
   "cell_type": "markdown",
   "metadata": {
    "id": "bfzdjyVDRqMU"
   },
   "source": [
    "**Analisis Distribusi Korelasi**"
   ]
  },
  {
   "cell_type": "code",
   "execution_count": 35,
   "metadata": {
    "colab": {
     "base_uri": "https://localhost:8080/"
    },
    "executionInfo": {
     "elapsed": 326,
     "status": "ok",
     "timestamp": 1759928285627,
     "user": {
      "displayName": "Josephine Diva Ayurveda Verol",
      "userId": "12933869282444868046"
     },
     "user_tz": -420
    },
    "id": "aVx1nfPYRZnN",
    "outputId": "8c9b11ea-dc42-4055-e297-1929f70d940f"
   },
   "outputs": [
    {
     "data": {
      "image/png": "[encoded data removed]",
      "text/plain": [
       "<Figure size 1000x800 with 1 Axes>"
      ]
     },
     "metadata": {},
     "output_type": "display_data"
    }
   ],
   "source": [
    "import seaborn as sns\n",
    "import matplotlib.pyplot as plt\n",
    "\n",
    "# Boxplot untuk semua variabel numerik\n",
    "plt.figure(figsize=(10, 8))\n",
    "sns.boxplot(data=df.select_dtypes(include=['int64', 'float64']))\n",
    "plt.xticks(rotation=45)\n",
    "plt.title('Boxplot Variabel Numerik')\n",
    "plt.show()"
   ]
  },
  {
   "cell_type": "code",
   "execution_count": 36,
   "metadata": {
    "colab": {
     "base_uri": "https://localhost:8080/"
    },
    "executionInfo": {
     "elapsed": 277,
     "status": "ok",
     "timestamp": 1759928285908,
     "user": {
      "displayName": "Josephine Diva Ayurveda Verol",
      "userId": "12933869282444868046"
     },
     "user_tz": -420
    },
    "id": "RzzDG4gzRypF",
    "outputId": "03060e32-da50-4135-a27d-a1f94bb1a75d"
   },
   "outputs": [
    {
     "data": {
      "image/png": "[encoded data removed]",
      "text/plain": [
       "<Figure size 1000x800 with 2 Axes>"
      ]
     },
     "metadata": {},
     "output_type": "display_data"
    }
   ],
   "source": [
    "# Memilih hanya kolom numerik\n",
    "numeric_data = df.select_dtypes(include=['number'])\n",
    "\n",
    "# Menghitung matriks korelasi\n",
    "correlation_matrix = numeric_data.corr()\n",
    "\n",
    "plt.figure(figsize=(10, 8))\n",
    "sns.heatmap(correlation_matrix, annot=True, cmap='coolwarm', fmt='.2f')\n",
    "plt.title('Heatmap Korelasi')\n",
    "plt.show()"
   ]
  },
  {
   "cell_type": "markdown",
   "metadata": {
    "id": "glsjXQSgR6-I"
   },
   "source": [
    "**Visualisasi Data**"
   ]
  },
  {
   "cell_type": "code",
   "execution_count": 37,
   "metadata": {
    "colab": {
     "base_uri": "https://localhost:8080/"
    },
    "executionInfo": {
     "elapsed": 203,
     "status": "ok",
     "timestamp": 1759928286091,
     "user": {
      "displayName": "Josephine Diva Ayurveda Verol",
      "userId": "12933869282444868046"
     },
     "user_tz": -420
    },
    "id": "rCUm2Sv1R2tH",
    "outputId": "22a5502c-5fbe-41b2-f171-2ab47d0874c8"
   },
   "outputs": [
    {
     "name": "stderr",
     "output_type": "stream",
     "text": [
      "C:\\Users\\josep\\AppData\\Local\\Temp\\ipykernel_6804\\769364608.py:2: FutureWarning: \n",
      "\n",
      "Passing `palette` without assigning `hue` is deprecated and will be removed in v0.14.0. Assign the `x` variable to `hue` and set `legend=False` for the same effect.\n",
      "\n",
      "  sns.countplot(x='feedback_terakhir', data=df, palette='pastel')\n"
     ]
    },
    {
     "data": {
      "image/png": "[encoded data removed]",
      "text/plain": [
       "<Figure size 640x480 with 1 Axes>"
      ]
     },
     "metadata": {},
     "output_type": "display_data"
    }
   ],
   "source": [
    "# Diagram batang untuk variabel kategorikal, contoh: 'feedback_terakhir'\n",
    "sns.countplot(x='feedback_terakhir', data=df, palette='pastel')\n",
    "plt.title('Distribusi Feedback Terakhir')\n",
    "plt.xlabel('Feedback Saran Pengembangan')\n",
    "plt.ylabel('Frekuensi')\n",
    "plt.xticks(rotation=45)\n",
    "plt.show()"
   ]
  },
  {
   "cell_type": "markdown",
   "metadata": {
    "id": "8-3lPrBubOAK"
   },
   "source": [
    "Berdasarkan hasil eksplorasi data terhadap variabel feedback terakhir, ditemukan inkonsistensi penulisan label, seperti munculnya variasi penulisan “Efektif” menjadi “efektif”, “efe”, atau “efek”, yang menyebabkan fragmentasi kategori dan memperparah ketidakseimbangan distribusi.\n",
    "\n",
    "Permasalahan ini dapat berdampak pada performa model, terutama jika model menganggap setiap variasi tulisan sebagai kelas yang berbeda. Untuk mengatasi hal tersebut, dilakukan langkah-langkah berikut:\n",
    "  - Standarisasi penulisan label melalui text cleaning, misalnya dengan mengubah semua label menjadi huruf kecil dan melakukan mapping ke kategori baku.\n",
    "  - Penggabungan kategori yang serupa ke dalam satu label utama. Contoh: “efe” dan “efek” dikoreksi menjadi “efektif”."
   ]
  },
  {
   "cell_type": "code",
   "execution_count": 38,
   "metadata": {
    "colab": {
     "base_uri": "https://localhost:8080/"
    },
    "executionInfo": {
     "elapsed": 74,
     "status": "ok",
     "timestamp": 1759928286195,
     "user": {
      "displayName": "Josephine Diva Ayurveda Verol",
      "userId": "12933869282444868046"
     },
     "user_tz": -420
    },
    "id": "XuVO51B6LDZa",
    "outputId": "f71bcd1d-fdb5-496d-c482-811a301de98e"
   },
   "outputs": [
    {
     "name": "stderr",
     "output_type": "stream",
     "text": [
      "C:\\Users\\josep\\AppData\\Local\\Temp\\ipykernel_6804\\1891498694.py:2: FutureWarning: \n",
      "\n",
      "Passing `palette` without assigning `hue` is deprecated and will be removed in v0.14.0. Assign the `x` variable to `hue` and set `legend=False` for the same effect.\n",
      "\n",
      "  sns.countplot(x='aspek', data=df, palette='pastel')\n"
     ]
    },
    {
     "data": {
      "image/png": "[encoded data removed]",
      "text/plain": [
       "<Figure size 640x480 with 1 Axes>"
      ]
     },
     "metadata": {},
     "output_type": "display_data"
    }
   ],
   "source": [
    "# Diagram batang untuk variabel kategorikal, contoh: 'aspek'\n",
    "sns.countplot(x='aspek', data=df, palette='pastel')\n",
    "plt.title('Distribusi Aspek Kompetensi')\n",
    "plt.xlabel('Aspek')\n",
    "plt.ylabel('Frekuensi')\n",
    "plt.xticks(rotation=45)\n",
    "plt.show()"
   ]
  },
  {
   "cell_type": "markdown",
   "metadata": {
    "id": "W0N8CQW9OfRT"
   },
   "source": [
    "Dari tampilan diagram di atas, terdapat ketidakseimbangan persebaran aspek di dataset. Hal ini perlu ditindaklanjuti dengan mapping ulang baris aspek menjadi tiga aspek : pengetahuan, keahlian dan personal atribute"
   ]
  },
  {
   "cell_type": "markdown",
   "metadata": {
    "id": "N181_P8fSfsD"
   },
   "source": [
    "# 5. Data Preprocessing\n",
    "\n",
    "Pada tahap ini, data preprocessing adalah langkah penting untuk memastikan kualitas data sebelum digunakan dalam model machine learning. Data mentah sering kali mengandung nilai kosong, duplikasi, atau rentang nilai yang tidak konsisten, yang dapat memengaruhi kinerja model. Oleh karena itu, proses ini bertujuan untuk membersihkan dan mempersiapkan data agar analisis berjalan optimal.\n",
    "\n",
    "Langkah-langkah yang dilakukan dalam proses ini meliputi:\n",
    "\n",
    "**Pembersihan Data (Data Cleaning)**\n",
    "- Menghapus entri duplikat yang dapat menyebabkan bias pada model.\n",
    "- Menstandarkan format penulisan, seperti pada kolom kategori “Feedback Saran Pengembangan” yang sebelumnya mengandung variasi penulisan (misalnya “Efektif”, “efektif”, “efe”) agar seragam dan dapat diolah dengan benar.\n",
    "- Menangani nilai kosong (missing values) untuk memastikan tidak ada informasi penting yang hilang atau menyebabkan error saat pemrosesan selanjutnya.\n",
    "\n",
    "**Validasi Kualitas dan Kuantitas Data**\n",
    "- Mengukur persentase data bersih (tanpa nilai kosong atau duplikasi) setelah proses cleaning.\n",
    "\n",
    "**Penanganan Ketidakseimbangan Distribusi Data**\n",
    "- Distribusi data pada kolom Standar Level menunjukkan ketidakseimbangan yang cukup signifikan.\n",
    "- Untuk mengatasi hal ini dilakukan penambahan data dummy pada kelas yang kurang representatif agar distribusi data menjadi lebih seimbang dan model tidak bias terhadap kelas mayoritas.\n",
    "\n",
    "**Encoding dan Transformasi Data**\n",
    "- Mengubah fitur kategorikal menjadi format numerik yang dapat dipahami model menggunakan teknik encoding yang sesuai.\n",
    "- Normalisasi atau standarisasi diterapkan bila diperlukan, terutama untuk fitur numerik agar skala antar variabel seragam."
   ]
  },
  {
   "cell_type": "markdown",
   "metadata": {
    "id": "ME6P7_2aS5EY"
   },
   "source": [
    "**Menghapus/Menangani Data Kosong**"
   ]
  },
  {
   "cell_type": "markdown",
   "metadata": {
    "id": "SiLzCxbSg27a"
   },
   "source": [
    "Nilai kosong pada kolom identitas (NIP, satker, dan jabatan) diisi dengan placeholder agar struktur dataset tetap konsisten tanpa menghapus baris data yang memuat informasi penting terkait kompetensi, gap, dan feedback. Hal ini dilakukan karena ketiga kolom tersebut tidak digunakan sebagai fitur dalam proses pelatihan model machine learning"
   ]
  },
  {
   "cell_type": "code",
   "execution_count": 39,
   "metadata": {
    "colab": {
     "base_uri": "https://localhost:8080/"
    },
    "executionInfo": {
     "elapsed": 49,
     "status": "ok",
     "timestamp": 1759928290680,
     "user": {
      "displayName": "Josephine Diva Ayurveda Verol",
      "userId": "12933869282444868046"
     },
     "user_tz": -420
    },
    "id": "h_uUI29Tfg-y",
    "outputId": "322b1c55-e7c3-4f29-80f2-c4a1e16e7d74"
   },
   "outputs": [
    {
     "name": "stdout",
     "output_type": "stream",
     "text": [
      "          nama    nip           satker          jabatan kinerja  \\\n",
      "2815  dummy 19  DUMMY  Tidak diketahui  Tidak diketahui    baik   \n",
      "2816  dummy 19  DUMMY  Tidak diketahui  Tidak diketahui    baik   \n",
      "2817  dummy 19  DUMMY  Tidak diketahui  Tidak diketahui    baik   \n",
      "2818  dummy 19  DUMMY  Tidak diketahui  Tidak diketahui    baik   \n",
      "2819  dummy 19  DUMMY  Tidak diketahui  Tidak diketahui    baik   \n",
      "\n",
      "               kompetensi  standar level  nilai  gap             aspek  \\\n",
      "2815       perekat bangsa              2    0.0 -2.0          keahlian   \n",
      "2816       perekat bangsa              2    0.0 -2.0  personal atribut   \n",
      "2817  mengelola perubahan              2    0.0 -2.0       pengetahuan   \n",
      "2818  mengelola perubahan              2    0.0 -2.0          keahlian   \n",
      "2819  mengelola perubahan              2    0.0 -2.0  personal atribut   \n",
      "\n",
      "     feedback_terakhir         saran_pengembangan is_dummy  \n",
      "2815     cukup efektif           bimbingan teknis      1.0  \n",
      "2816    sangat efektif  pembelajaran alam terbuka      1.0  \n",
      "2817           efektif                 e-learning      1.0  \n",
      "2818     cukup efektif                     magang      1.0  \n",
      "2819    sangat efektif                  konseling      1.0  \n"
     ]
    }
   ],
   "source": [
    "# Buat salinan dataframe untuk data preprocessing\n",
    "df_clean = df.copy()\n",
    "\n",
    "# Isi nilai kosong pada kolom identitas dengan placeholder di salinan, bukan df asli\n",
    "df_clean['nip'] = df_clean['nip'].fillna('DUMMY')\n",
    "df_clean['satker'] = df_clean['satker'].fillna('Tidak diketahui')\n",
    "df_clean['jabatan'] = df_clean['jabatan'].fillna('Tidak diketahui')\n",
    "df_clean['is_dummy'] = df_clean['is_dummy'].fillna('DUMMY')\n",
    "\n",
    "# Cek beberapa baris untuk memastikan perubahan hanya terjadi di df_clean\n",
    "print(df_clean.tail())"
   ]
  },
  {
   "cell_type": "code",
   "execution_count": 40,
   "metadata": {
    "colab": {
     "base_uri": "https://localhost:8080/"
    },
    "executionInfo": {
     "elapsed": 17,
     "status": "ok",
     "timestamp": 1759928293318,
     "user": {
      "displayName": "Josephine Diva Ayurveda Verol",
      "userId": "12933869282444868046"
     },
     "user_tz": -420
    },
    "id": "s6BTWb5-kddQ",
    "outputId": "0809fb23-b58c-4df1-f566-704d7e2c998d"
   },
   "outputs": [
    {
     "name": "stdout",
     "output_type": "stream",
     "text": [
      "nama                  0\n",
      "nip                   0\n",
      "satker                0\n",
      "jabatan               0\n",
      "kinerja               0\n",
      "kompetensi            0\n",
      "standar level         0\n",
      "nilai                 0\n",
      "gap                   0\n",
      "aspek                 0\n",
      "feedback_terakhir     0\n",
      "saran_pengembangan    0\n",
      "is_dummy              0\n",
      "dtype: int64\n",
      "nama                  0\n",
      "nip                   0\n",
      "satker                0\n",
      "jabatan               0\n",
      "kinerja               0\n",
      "kompetensi            0\n",
      "standar level         0\n",
      "nilai                 0\n",
      "gap                   0\n",
      "aspek                 0\n",
      "feedback_terakhir     0\n",
      "saran_pengembangan    0\n",
      "is_dummy              0\n",
      "dtype: int64\n"
     ]
    }
   ],
   "source": [
    "# Cek ulang apakah masih ada nilai kosong\n",
    "print(df_clean.isnull().sum())\n",
    "print(df_clean.isna().sum())"
   ]
  },
  {
   "cell_type": "markdown",
   "metadata": {
    "id": "tYv6i5xyh-6g"
   },
   "source": [
    "**Menghapus Entri Duplikat**"
   ]
  },
  {
   "cell_type": "code",
   "execution_count": 41,
   "metadata": {
    "colab": {
     "base_uri": "https://localhost:8080/"
    },
    "executionInfo": {
     "elapsed": 22,
     "status": "ok",
     "timestamp": 1759928295995,
     "user": {
      "displayName": "Josephine Diva Ayurveda Verol",
      "userId": "12933869282444868046"
     },
     "user_tz": -420
    },
    "id": "6qWspUgLiDGp",
    "outputId": "deeb9cfb-02c0-4127-a2e3-66ecc448eae9"
   },
   "outputs": [
    {
     "name": "stdout",
     "output_type": "stream",
     "text": [
      "Jumlah data sebelum drop duplicates: 2820\n",
      "Jumlah data setelah drop duplicates: 2820\n"
     ]
    }
   ],
   "source": [
    "# Buat salinan dataframe untuk data preprocessing\n",
    "df_drop = df_clean.copy()\n",
    "\n",
    "# Jumlah data sebelum penghapusan duplikat\n",
    "print(f\"Jumlah data sebelum drop duplicates: {len(df_drop)}\")\n",
    "\n",
    "# Hapus duplikat (berdasarkan semua kolom)\n",
    "df_drop = df_drop.drop_duplicates()\n",
    "\n",
    "# Jumlah data setelah penghapusan duplikat\n",
    "print(f\"Jumlah data setelah drop duplicates: {len(df_drop)}\")"
   ]
  },
  {
   "cell_type": "markdown",
   "metadata": {
    "id": "prMJXWzPi0gW"
   },
   "source": [
    "**Menstandarkan Format Penulisan Kolom Kategori**"
   ]
  },
  {
   "cell_type": "code",
   "execution_count": 42,
   "metadata": {
    "colab": {
     "base_uri": "https://localhost:8080/"
    },
    "executionInfo": {
     "elapsed": 35,
     "status": "ok",
     "timestamp": 1759928298241,
     "user": {
      "displayName": "Josephine Diva Ayurveda Verol",
      "userId": "12933869282444868046"
     },
     "user_tz": -420
    },
    "id": "sTOXo4M-i4pM",
    "outputId": "1542bd9c-5d1d-4861-be73-4b9f6bd4bd5a"
   },
   "outputs": [
    {
     "name": "stdout",
     "output_type": "stream",
     "text": [
      "['sangat efektif' 'cukup efektif' 'efektif' 'kurang efektif'\n",
      " 'tidak efektif']\n",
      "['keahlian' 'pengetahuan' 'personal atribute']\n"
     ]
    }
   ],
   "source": [
    "# Buat salinan dataframe untuk data preprocessing\n",
    "df_final = df_drop.copy()\n",
    "\n",
    "# Ubah semua ke huruf kecil dan hilangkan spasi di awal/akhir\n",
    "df_final['feedback_terakhir'] = df_final['feedback_terakhir'].str.strip().str.lower()\n",
    "df_final['aspek'] = df_final['aspek'].str.strip().str.lower()\n",
    "\n",
    "# Buat peta standarisasi kata-kata yang typo atau tidak seragam\n",
    "mapping_feedback = {\n",
    "    'efektif': 'efektif',\n",
    "    'efe': 'efektif',\n",
    "    'efek': 'efektif',\n",
    "    'sangat efektif': 'sangat efektif',\n",
    "    'Sangat Efektif': 'sangat efektif',\n",
    "    'tidak efektif': 'tidak efektif',\n",
    "    'Tidak Efektif': 'tidak efektif',\n",
    "    'kurang efektif': 'kurang efektif',\n",
    "    'Kurang Efektif': 'kurang efektif',\n",
    "    'cukup efektif': 'cukup efektif',\n",
    "    'Cukup Efektif': 'cukup efektif'\n",
    "}\n",
    "\n",
    "mapping_aspek = {\n",
    "    # Pengetahuan\n",
    "    'pengetahuan': 'pengetahuan',\n",
    "\n",
    "    # Keahlian\n",
    "    'keahlian': 'keahlian',\n",
    "\n",
    "    # Personal Attribute\n",
    "    'personal atribute': 'personal atribute',\n",
    "    'personal atribut': 'personal atribute',\n",
    "    'atribut personal': 'personal atribute',\n",
    "    'personal attribute': 'personal atribute',\n",
    "}\n",
    "\n",
    "# Terapkan standarisasi\n",
    "df_final['feedback_terakhir'] = df_final['feedback_terakhir'].replace(mapping_feedback)\n",
    "df_final['aspek'] = df_final['aspek'].replace(mapping_aspek)\n",
    "\n",
    "# Cek hasil unik setelah standarisasi\n",
    "print(df_final['feedback_terakhir'].unique())\n",
    "print(df_final['aspek'].unique())\n"
   ]
  },
  {
   "cell_type": "markdown",
   "metadata": {
    "id": "BbCCnAA7jpfS"
   },
   "source": [
    "**Validasi Kualitas dan Kuantitas Data**"
   ]
  },
  {
   "cell_type": "code",
   "execution_count": 43,
   "metadata": {
    "colab": {
     "base_uri": "https://localhost:8080/"
    },
    "executionInfo": {
     "elapsed": 8,
     "status": "ok",
     "timestamp": 1759928303979,
     "user": {
      "displayName": "Josephine Diva Ayurveda Verol",
      "userId": "12933869282444868046"
     },
     "user_tz": -420
    },
    "id": "XLF68jw4lTAa",
    "outputId": "79dd1389-b144-458a-a82d-d0b45e4f3a6b"
   },
   "outputs": [
    {
     "name": "stdout",
     "output_type": "stream",
     "text": [
      "Total data awal: 2820\n",
      "Total data setelah cleaning: 2820\n",
      "Persentase data bersih: 100.00%\n"
     ]
    }
   ],
   "source": [
    "# Hitung total data awal\n",
    "total_awal = len(df)\n",
    "\n",
    "# Hitung total data bersih\n",
    "total_bersih = len(df_final)\n",
    "\n",
    "# Hitung persentase\n",
    "persentase_bersih = (total_bersih / total_awal) * 100\n",
    "\n",
    "print(f\"Total data awal: {total_awal}\")\n",
    "print(f\"Total data setelah cleaning: {total_bersih}\")\n",
    "print(f\"Persentase data bersih: {persentase_bersih:.2f}%\")"
   ]
  },
  {
   "cell_type": "code",
   "execution_count": 44,
   "metadata": {
    "colab": {
     "base_uri": "https://localhost:8080/"
    },
    "executionInfo": {
     "elapsed": 6,
     "status": "ok",
     "timestamp": 1759928110886,
     "user": {
      "displayName": "Josephine Diva Ayurveda Verol",
      "userId": "12933869282444868046"
     },
     "user_tz": -420
    },
    "id": "8kiLthh6trvk",
    "outputId": "10fbd1dd-1d74-41a9-a800-e8e5763e43bf"
   },
   "outputs": [
    {
     "name": "stdout",
     "output_type": "stream",
     "text": [
      "<class 'pandas.core.frame.DataFrame'>\n",
      "RangeIndex: 2820 entries, 0 to 2819\n",
      "Data columns (total 13 columns):\n",
      " #   Column              Non-Null Count  Dtype  \n",
      "---  ------              --------------  -----  \n",
      " 0   nama                2820 non-null   object \n",
      " 1   nip                 2820 non-null   object \n",
      " 2   satker              2820 non-null   object \n",
      " 3   jabatan             2820 non-null   object \n",
      " 4   kinerja             2820 non-null   object \n",
      " 5   kompetensi          2820 non-null   object \n",
      " 6   standar level       2820 non-null   int64  \n",
      " 7   nilai               2820 non-null   float64\n",
      " 8   gap                 2820 non-null   float64\n",
      " 9   aspek               2820 non-null   object \n",
      " 10  feedback_terakhir   2820 non-null   object \n",
      " 11  saran_pengembangan  2820 non-null   object \n",
      " 12  is_dummy            2820 non-null   object \n",
      "dtypes: float64(2), int64(1), object(10)\n",
      "memory usage: 286.5+ KB\n"
     ]
    }
   ],
   "source": [
    "df_final.info()"
   ]
  },
  {
   "cell_type": "code",
   "execution_count": 45,
   "metadata": {
    "colab": {
     "base_uri": "https://localhost:8080/",
     "height": 504
    },
    "executionInfo": {
     "elapsed": 76,
     "status": "ok",
     "timestamp": 1759932159256,
     "user": {
      "displayName": "Josephine Diva Ayurveda Verol",
      "userId": "12933869282444868046"
     },
     "user_tz": -420
    },
    "id": "czLFIy4r2bfe",
    "outputId": "b866818c-53ff-48f6-ed7f-d39b1e9df362"
   },
   "outputs": [
    {
     "data": {
      "text/html": [
       "<div>\n",
       "<style scoped>\n",
       "    .dataframe tbody tr th:only-of-type {\n",
       "        vertical-align: middle;\n",
       "    }\n",
       "\n",
       "    .dataframe tbody tr th {\n",
       "        vertical-align: top;\n",
       "    }\n",
       "\n",
       "    .dataframe thead th {\n",
       "        text-align: right;\n",
       "    }\n",
       "</style>\n",
       "<table border=\"1\" class=\"dataframe\">\n",
       "  <thead>\n",
       "    <tr style=\"text-align: right;\">\n",
       "      <th></th>\n",
       "      <th>nama</th>\n",
       "      <th>nip</th>\n",
       "      <th>satker</th>\n",
       "      <th>jabatan</th>\n",
       "      <th>kinerja</th>\n",
       "      <th>kompetensi</th>\n",
       "      <th>standar level</th>\n",
       "      <th>nilai</th>\n",
       "      <th>gap</th>\n",
       "      <th>aspek</th>\n",
       "      <th>feedback_terakhir</th>\n",
       "      <th>saran_pengembangan</th>\n",
       "      <th>is_dummy</th>\n",
       "    </tr>\n",
       "  </thead>\n",
       "  <tbody>\n",
       "    <tr>\n",
       "      <th>0</th>\n",
       "      <td>ni made ayu marthini</td>\n",
       "      <td>197105121996032000.0</td>\n",
       "      <td>deputi bidang pemasaran</td>\n",
       "      <td>deputi bidang pemasaran</td>\n",
       "      <td>baik</td>\n",
       "      <td>integritas</td>\n",
       "      <td>5</td>\n",
       "      <td>4.60</td>\n",
       "      <td>-0.40</td>\n",
       "      <td>keahlian</td>\n",
       "      <td>sangat efektif</td>\n",
       "      <td>penugasan khusus</td>\n",
       "      <td>0.0</td>\n",
       "    </tr>\n",
       "    <tr>\n",
       "      <th>1</th>\n",
       "      <td>ni made ayu marthini</td>\n",
       "      <td>197105121996032000.0</td>\n",
       "      <td>deputi bidang pemasaran</td>\n",
       "      <td>deputi bidang pemasaran</td>\n",
       "      <td>baik</td>\n",
       "      <td>integritas</td>\n",
       "      <td>5</td>\n",
       "      <td>4.60</td>\n",
       "      <td>-0.40</td>\n",
       "      <td>pengetahuan</td>\n",
       "      <td>sangat efektif</td>\n",
       "      <td>patok banding</td>\n",
       "      <td>0.0</td>\n",
       "    </tr>\n",
       "    <tr>\n",
       "      <th>2</th>\n",
       "      <td>ni made ayu marthini</td>\n",
       "      <td>197105121996032000.0</td>\n",
       "      <td>deputi bidang pemasaran</td>\n",
       "      <td>deputi bidang pemasaran</td>\n",
       "      <td>baik</td>\n",
       "      <td>integritas</td>\n",
       "      <td>5</td>\n",
       "      <td>4.60</td>\n",
       "      <td>-0.40</td>\n",
       "      <td>personal atribute</td>\n",
       "      <td>sangat efektif</td>\n",
       "      <td>konseling</td>\n",
       "      <td>0.0</td>\n",
       "    </tr>\n",
       "    <tr>\n",
       "      <th>3</th>\n",
       "      <td>ni made ayu marthini</td>\n",
       "      <td>197105121996032000.0</td>\n",
       "      <td>deputi bidang pemasaran</td>\n",
       "      <td>deputi bidang pemasaran</td>\n",
       "      <td>baik</td>\n",
       "      <td>kerjasama</td>\n",
       "      <td>5</td>\n",
       "      <td>4.83</td>\n",
       "      <td>-0.17</td>\n",
       "      <td>pengetahuan</td>\n",
       "      <td>sangat efektif</td>\n",
       "      <td>patok banding</td>\n",
       "      <td>0.0</td>\n",
       "    </tr>\n",
       "    <tr>\n",
       "      <th>4</th>\n",
       "      <td>ni made ayu marthini</td>\n",
       "      <td>197105121996032000.0</td>\n",
       "      <td>deputi bidang pemasaran</td>\n",
       "      <td>deputi bidang pemasaran</td>\n",
       "      <td>baik</td>\n",
       "      <td>kerjasama</td>\n",
       "      <td>5</td>\n",
       "      <td>4.83</td>\n",
       "      <td>-0.17</td>\n",
       "      <td>keahlian</td>\n",
       "      <td>sangat efektif</td>\n",
       "      <td>pelatihan lemhannas</td>\n",
       "      <td>0.0</td>\n",
       "    </tr>\n",
       "  </tbody>\n",
       "</table>\n",
       "</div>"
      ],
      "text/plain": [
       "                   nama                   nip                   satker  \\\n",
       "0  ni made ayu marthini  197105121996032000.0  deputi bidang pemasaran   \n",
       "1  ni made ayu marthini  197105121996032000.0  deputi bidang pemasaran   \n",
       "2  ni made ayu marthini  197105121996032000.0  deputi bidang pemasaran   \n",
       "3  ni made ayu marthini  197105121996032000.0  deputi bidang pemasaran   \n",
       "4  ni made ayu marthini  197105121996032000.0  deputi bidang pemasaran   \n",
       "\n",
       "                   jabatan kinerja  kompetensi  standar level  nilai   gap  \\\n",
       "0  deputi bidang pemasaran    baik  integritas              5   4.60 -0.40   \n",
       "1  deputi bidang pemasaran    baik  integritas              5   4.60 -0.40   \n",
       "2  deputi bidang pemasaran    baik  integritas              5   4.60 -0.40   \n",
       "3  deputi bidang pemasaran    baik   kerjasama              5   4.83 -0.17   \n",
       "4  deputi bidang pemasaran    baik   kerjasama              5   4.83 -0.17   \n",
       "\n",
       "               aspek feedback_terakhir   saran_pengembangan is_dummy  \n",
       "0           keahlian    sangat efektif     penugasan khusus      0.0  \n",
       "1        pengetahuan    sangat efektif        patok banding      0.0  \n",
       "2  personal atribute    sangat efektif            konseling      0.0  \n",
       "3        pengetahuan    sangat efektif        patok banding      0.0  \n",
       "4           keahlian    sangat efektif  pelatihan lemhannas      0.0  "
      ]
     },
     "execution_count": 45,
     "metadata": {},
     "output_type": "execute_result"
    }
   ],
   "source": [
    "df_final.head()"
   ]
  },
  {
   "cell_type": "markdown",
   "metadata": {
    "id": "hKJoXQcZZPgP"
   },
   "source": [
    "# 6. Uji Coba Dataset\n",
    "\n",
    "Melatih\n",
    " model sederhana untuk\n",
    " menguji apakah dataset\n",
    " sudah layak digunakan"
   ]
  },
  {
   "cell_type": "code",
   "execution_count": 46,
   "metadata": {
    "colab": {
     "base_uri": "https://localhost:8080/"
    },
    "executionInfo": {
     "elapsed": 16624,
     "status": "ok",
     "timestamp": 1759932260952,
     "user": {
      "displayName": "Josephine Diva Ayurveda Verol",
      "userId": "12933869282444868046"
     },
     "user_tz": -420
    },
    "id": "dzA43q7C49xx",
    "outputId": "7a453a7b-daba-4359-dad8-e18de096d260"
   },
   "outputs": [
    {
     "name": "stdout",
     "output_type": "stream",
     "text": [
      "⚠️ XGBoost tidak terpasang, lewati model XGBClassifier.\n",
      "RandomForest Accuracy: 0.3837\n",
      "GradientBoosting Accuracy: 0.3925\n"
     ]
    },
    {
     "name": "stderr",
     "output_type": "stream",
     "text": [
      "C:\\Users\\josep\\AppData\\Roaming\\Python\\Python313\\site-packages\\sklearn\\linear_model\\_logistic.py:1272: FutureWarning: 'multi_class' was deprecated in version 1.5 and will be removed in 1.8. From then on, it will always use 'multinomial'. Leave it to its default value to avoid this warning.\n",
      "  warnings.warn(\n"
     ]
    },
    {
     "name": "stdout",
     "output_type": "stream",
     "text": [
      "LogisticRegression Accuracy: 0.3677\n",
      "\n",
      "🏆 Model terbaik: GradientBoosting (Accuracy = 0.3925)\n",
      "✅ Model GradientBoosting dan LabelEncoder disimpan sebagai 'model_classification_best.joblib' dan 'label_encoder.joblib'\n"
     ]
    }
   ],
   "source": [
    "import pandas as pd\n",
    "from sklearn.model_selection import train_test_split\n",
    "from sklearn.preprocessing import OneHotEncoder, StandardScaler, LabelEncoder\n",
    "from sklearn.compose import ColumnTransformer\n",
    "from sklearn.pipeline import Pipeline\n",
    "from sklearn.ensemble import RandomForestClassifier, GradientBoostingClassifier\n",
    "from sklearn.linear_model import LogisticRegression\n",
    "from sklearn.metrics import accuracy_score\n",
    "from joblib import dump\n",
    "from collections import Counter\n",
    "\n",
    "# --- 1. Siapkan data ---\n",
    "features = [\"kompetensi\", \"standar level\", \"nilai\", \"gap\", \"aspek\", \"feedback_terakhir\"]\n",
    "target = \"saran_pengembangan\"\n",
    "\n",
    "X = df_final[features]\n",
    "y = df_final[target]\n",
    "\n",
    "num_cols = [\"standar level\", \"nilai\", \"gap\"]\n",
    "cat_cols = [\"kompetensi\", \"aspek\", \"feedback_terakhir\"]\n",
    "\n",
    "preprocessor = ColumnTransformer([\n",
    "    (\"num\", StandardScaler(), num_cols),\n",
    "    (\"cat\", OneHotEncoder(handle_unknown=\"ignore\"), cat_cols),\n",
    "])\n",
    "\n",
    "# Buang kelas yang terlalu sedikit\n",
    "counts = Counter(y)\n",
    "valid_classes = [cls for cls, cnt in counts.items() if cnt >= 2]\n",
    "mask = y.isin(valid_classes)\n",
    "X = X[mask]\n",
    "y = y[mask]\n",
    "\n",
    "# Label encode the target variable\n",
    "label_encoder = LabelEncoder()\n",
    "y_encoded = label_encoder.fit_transform(y)\n",
    "\n",
    "\n",
    "# --- 2. Split data ---\n",
    "X_train, X_test, y_train_encoded, y_test_encoded = train_test_split(\n",
    "    X, y_encoded, stratify=y_encoded, random_state=42, test_size=0.2\n",
    ")\n",
    "\n",
    "# --- 3. Definisikan model ---\n",
    "models = {\n",
    "    \"RandomForest\": RandomForestClassifier(n_estimators=300, random_state=42),\n",
    "    \"GradientBoosting\": GradientBoostingClassifier(random_state=42),\n",
    "    \"LogisticRegression\": LogisticRegression(max_iter=1000, multi_class='auto')\n",
    "}\n",
    "\n",
    "# (Opsional) Jika XGBoost tersedia\n",
    "try:\n",
    "    from xgboost import XGBClassifier\n",
    "    models[\"XGBoost\"] = XGBClassifier(random_state=42)\n",
    "except ImportError:\n",
    "    print(\"⚠️ XGBoost tidak terpasang, lewati model XGBClassifier.\")\n",
    "\n",
    "# --- 4. Latih & Evaluasi semua model ---\n",
    "results = {}\n",
    "\n",
    "for name, model in models.items():\n",
    "    pipe = Pipeline(steps=[(\"pre\", preprocessor), (\"model\", model)])\n",
    "    # Use the encoded target variable for training and evaluation\n",
    "    pipe.fit(X_train, y_train_encoded)\n",
    "    y_pred_encoded = pipe.predict(X_test)\n",
    "    acc = accuracy_score(y_test_encoded, y_pred_encoded)\n",
    "    results[name] = {\"model\": pipe, \"accuracy\": acc}\n",
    "    print(f\"{name} Accuracy: {acc:.4f}\")\n",
    "\n",
    "# --- 5. Pilih model terbaik ---\n",
    "best_model_name = max(results, key=lambda x: results[x][\"accuracy\"])\n",
    "best_model = results[best_model_name][\"model\"]\n",
    "best_acc = results[best_model_name][\"accuracy\"]\n",
    "\n",
    "print(f\"\\n🏆 Model terbaik: {best_model_name} (Accuracy = {best_acc:.4f})\")\n",
    "\n",
    "# --- 6. Simpan model terbaik ---\n",
    "# You may also want to save the LabelEncoder if you need to decode predictions later\n",
    "dump(best_model, \"model_classification_best.joblib\")\n",
    "dump(label_encoder, \"label_encoder.joblib\")\n",
    "print(f\"✅ Model {best_model_name} dan LabelEncoder disimpan sebagai 'model_classification_best.joblib' dan 'label_encoder.joblib'\")"
   ]
  },
  {
   "cell_type": "code",
   "execution_count": 47,
   "metadata": {
    "colab": {
     "base_uri": "https://localhost:8080/"
    },
    "executionInfo": {
     "elapsed": 262,
     "status": "ok",
     "timestamp": 1759932332861,
     "user": {
      "displayName": "Josephine Diva Ayurveda Verol",
      "userId": "12933869282444868046"
     },
     "user_tz": -420
    },
    "id": "06zJr5CQ7fY1",
    "outputId": "9b544957-a912-45dc-df4d-d9140b9cb23a"
   },
   "outputs": [
    {
     "name": "stderr",
     "output_type": "stream",
     "text": [
      "<>:6: SyntaxWarning: invalid escape sequence '\\J'\n",
      "<>:6: SyntaxWarning: invalid escape sequence '\\J'\n",
      "C:\\Users\\josep\\AppData\\Local\\Temp\\ipykernel_6804\\954316048.py:6: SyntaxWarning: invalid escape sequence '\\J'\n",
      "  clf_model = load(\"C:\\Josephine Work File - 2025\\Latsar Aktualisasi\\sistem-rekomendasi-saran-pengembangan\\model\\model_classification_best.joblib\")\n"
     ]
    },
    {
     "name": "stdout",
     "output_type": "stream",
     "text": [
      "Top-3 Rekomendasi Saran Pengembangan:\n",
      "1. 27 (score: 0.593)\n",
      "2. 3 (score: 0.246)\n",
      "3. 1 (score: 0.105)\n"
     ]
    }
   ],
   "source": [
    "import numpy as np\n",
    "import pandas as pd\n",
    "from joblib import load\n",
    "\n",
    "# === 1. Load model klasifikasi ===\n",
    "clf_model = load(\"C:\\Josephine Work File - 2025\\Latsar Aktualisasi\\sistem-rekomendasi-saran-pengembangan\\model\\model_classification_best.joblib\")\n",
    "\n",
    "# === 2. Contoh data pegawai baru ===\n",
    "pegawai_baru = pd.DataFrame([{\n",
    "    \"kompetensi\": \"integritas\",\n",
    "    \"standar level\": 4,\n",
    "    \"nilai\": 3,\n",
    "    \"gap\": -1,\n",
    "    \"aspek\" : \"keahlian\",\n",
    "    \"feedback_terakhir\": \"kurang efektif\"\n",
    "}])\n",
    "\n",
    "# === 3. Prediksi probabilitas untuk semua kelas (saran pengembangan) ===\n",
    "proba_clf = clf_model.predict_proba(pegawai_baru)[0]\n",
    "\n",
    "# Ambil daftar kelas dari model (urutan sama dengan probabilitas)\n",
    "clf_classes = clf_model.named_steps[\"model\"].classes_\n",
    "\n",
    "# === 4. Buat dictionary skor ===\n",
    "scores = {clf_classes[i]: proba_clf[i] for i in range(len(clf_classes))}\n",
    "\n",
    "# === 5. Ambil Top-3 rekomendasi ===\n",
    "top_rekom = sorted(scores.items(), key=lambda x: x[1], reverse=True)[:3]\n",
    "\n",
    "# === 6. Tampilkan hasil ===\n",
    "print(\"Top-3 Rekomendasi Saran Pengembangan:\")\n",
    "for rank, (saran, score) in enumerate(top_rekom, start=1):\n",
    "    print(f\"{rank}. {saran} (score: {score:.3f})\")"
   ]
  },
  {
   "cell_type": "markdown",
   "metadata": {
    "id": "9QIGMa2AJgne"
   },
   "source": [
    "# 7. Model Development\n",
    "\n",
    "*Model development* dengan *machine learning* menggunakan data kompetensi dan hasil pelatihan"
   ]
  },
  {
   "cell_type": "code",
   "execution_count": 48,
   "metadata": {
    "colab": {
     "base_uri": "https://localhost:8080/",
     "height": 1000
    },
    "executionInfo": {
     "elapsed": 63,
     "status": "ok",
     "timestamp": 1759932465814,
     "user": {
      "displayName": "Josephine Diva Ayurveda Verol",
      "userId": "12933869282444868046"
     },
     "user_tz": -420
    },
    "id": "vUt3o3oFJjP2",
    "outputId": "1605dee7-8708-4f10-b0b7-900e92e3f730"
   },
   "outputs": [
    {
     "data": {
      "text/plain": [
       "saran_pengembangan\n",
       "umpan balik                              457\n",
       "konseling                                376\n",
       "penugasan                                280\n",
       "coaching                                 235\n",
       "pembelajaran mandiri                     136\n",
       "e-learning                               134\n",
       "bimbingan teknis                         130\n",
       "sosialisasi                              123\n",
       "pembelajaran alam terbuka                 94\n",
       "komunitas belajar                         90\n",
       "patok banding                             89\n",
       "studi kasus                               86\n",
       "magang                                    71\n",
       "mentoring                                 62\n",
       "bimbingan di tempat kerja                 49\n",
       "sarasehan                                 43\n",
       "lokakarya                                 40\n",
       "workshop                                  40\n",
       "pelatihan lemhannas                       35\n",
       "seminar nasional                          32\n",
       "pelatihan komunikasi efektif              28\n",
       "seminar                                   28\n",
       "pelatihan teknis                          26\n",
       "pertukaran pegawai                        24\n",
       "pelatihan kedisiplinan                    11\n",
       "kelompok belajar                          10\n",
       "pelatihan komunikasi strategis            10\n",
       "pelatihan kode etik dan kode perilaku     10\n",
       "pelatihan nasional                         9\n",
       "kursus                                     8\n",
       "penugasan khusus                           7\n",
       "pengembangan mandiri                       7\n",
       "sharing session                            7\n",
       "pelatihan coaching                         6\n",
       "penataran                                  5\n",
       "bimbingan teknis di pekerjaan              4\n",
       "menjadi narasumber                         3\n",
       "menjadi nara sumber                        3\n",
       "penugasan                                  3\n",
       "semin                                      1\n",
       "pembelajarn alam terbuka                   1\n",
       "pelatihan teks                             1\n",
       "konferensi nasional                        1\n",
       "pelatihan                                  1\n",
       "counseling                                 1\n",
       "pengembangan                               1\n",
       "pembelajaran                               1\n",
       "penugasaran                                1\n",
       "Name: count, dtype: int64"
      ]
     },
     "execution_count": 48,
     "metadata": {},
     "output_type": "execute_result"
    }
   ],
   "source": [
    "df_final[\"saran_pengembangan\"].value_counts()"
   ]
  },
  {
   "cell_type": "markdown",
   "metadata": {
    "id": "brSq6sWjPqjQ"
   },
   "source": [
    "Kode ini digunakan untuk **menstandarkan penulisan pada kolom “saran_pengembangan”** agar konsisten.\n",
    "Langkahnya: membuat salinan data (`df_fixed`), mendefinisikan daftar koreksi (`mapping`), mengganti nilai yang tidak baku dengan bentuk benar menggunakan `.replace()`, lalu menampilkan hasil per kategori dengan `.value_counts()` untuk memastikan data sudah bersih dan seragam."
   ]
  },
  {
   "cell_type": "code",
   "execution_count": 49,
   "metadata": {
    "colab": {
     "base_uri": "https://localhost:8080/"
    },
    "executionInfo": {
     "elapsed": 40,
     "status": "ok",
     "timestamp": 1759932851004,
     "user": {
      "displayName": "Josephine Diva Ayurveda Verol",
      "userId": "12933869282444868046"
     },
     "user_tz": -420
    },
    "id": "oxxQoZoSK0RY",
    "outputId": "17ccb56d-066d-4f4d-dcd3-be4395f1f9eb"
   },
   "outputs": [
    {
     "name": "stdout",
     "output_type": "stream",
     "text": [
      "saran_pengembangan\n",
      "umpan balik                              457\n",
      "konseling                                376\n",
      "penugasan                                282\n",
      "coaching                                 235\n",
      "pembelajaran mandiri                     136\n",
      "e-learning                               134\n",
      "bimbingan teknis                         130\n",
      "sosialisasi                              123\n",
      "pembelajaran alam terbuka                 95\n",
      "komunitas belajar                         90\n",
      "patok banding                             89\n",
      "studi kasus                               86\n",
      "magang                                    71\n",
      "mentoring                                 62\n",
      "bimbingan di tempat kerja                 49\n",
      "sarasehan                                 43\n",
      "lokakarya                                 40\n",
      "workshop                                  40\n",
      "pelatihan lemhannas                       35\n",
      "seminar nasional                          32\n",
      "seminar                                   29\n",
      "pelatihan teknis                          28\n",
      "pelatihan komunikasi efektif              28\n",
      "pertukaran pegawai                        24\n",
      "pelatihan kedisiplinan                    11\n",
      "pelatihan komunikasi strategis            10\n",
      "pelatihan kode etik dan kode perilaku     10\n",
      "kelompok belajar                          10\n",
      "pelatihan nasional                         9\n",
      "kursus                                     8\n",
      "penugasan khusus                           7\n",
      "sharing session                            7\n",
      "pengembangan mandiri                       7\n",
      "menjadi narasumber                         6\n",
      "pelatihan coaching                         6\n",
      "penataran                                  5\n",
      "bimbingan teknis di pekerjaan              4\n",
      "penugasan                                  3\n",
      "konferensi                                 1\n",
      "pengembangan                               1\n",
      "pembelajaran                               1\n",
      "Name: count, dtype: int64\n"
     ]
    }
   ],
   "source": [
    "df_fixed = df_final.copy()\n",
    "\n",
    "# Buat dictionary mapping dari bentuk salah ke bentuk benar\n",
    "mapping = {\n",
    "    \"menjadi nara sumber\": \"menjadi narasumber\",\n",
    "    \"penugasaran\": \"penugasan\",\n",
    "    \"semin\": \"seminar\",\n",
    "    \"pembelajarn alam terbuka\": \"pembelajaran alam terbuka\",\n",
    "    \"pelatihan teks\": \"pelatihan teknis\",\n",
    "    \"konferensi nasional\": \"konferensi\",\n",
    "    \"pelatihan\": \"pelatihan teknis\",\n",
    "    \"counseling\": \"penugasan\"\n",
    "}\n",
    "\n",
    "# Terapkan mapping ke kolom target\n",
    "df_fixed[\"saran_pengembangan\"] = df_fixed[\"saran_pengembangan\"].replace(mapping)\n",
    "\n",
    "# Cek ulang hasilnya\n",
    "print(df_fixed[\"saran_pengembangan\"].value_counts())\n"
   ]
  },
  {
   "cell_type": "markdown",
   "metadata": {
    "id": "WjtHf-WaP5YP"
   },
   "source": [
    "Kode ini berfungsi untuk **menyeimbangkan jumlah data pada setiap kategori di kolom “saran_pengembangan”** agar model tidak bias terhadap kelas dengan data lebih banyak.\n",
    "\n",
    "Langkahnya:\n",
    "\n",
    "1. Menentukan batas minimal data per kelas (`min_count = 50`).\n",
    "2. Mengelompokkan data berdasarkan kategori.\n",
    "3. Melakukan **replikasi (oversampling)** untuk kategori dengan jumlah data di bawah batas minimal, baik dengan penggandaan penuh maupun penambahan acak.\n",
    "4. Menggabungkan seluruh hasil menjadi dataset baru (`df_balanced`).\n",
    "5. Menampilkan distribusi akhir tiap kategori untuk memastikan data sudah seimbang."
   ]
  },
  {
   "cell_type": "code",
   "execution_count": 50,
   "metadata": {
    "colab": {
     "base_uri": "https://localhost:8080/"
    },
    "executionInfo": {
     "elapsed": 87,
     "status": "ok",
     "timestamp": 1759933025314,
     "user": {
      "displayName": "Josephine Diva Ayurveda Verol",
      "userId": "12933869282444868046"
     },
     "user_tz": -420
    },
    "id": "2rXP2g8FLhv-",
    "outputId": "936ebfaa-c0a7-42bf-810b-cda1b4b028f3"
   },
   "outputs": [
    {
     "name": "stdout",
     "output_type": "stream",
     "text": [
      "saran_pengembangan\n",
      "umpan balik                              457\n",
      "konseling                                376\n",
      "penugasan                                280\n",
      "coaching                                 235\n",
      "pembelajaran mandiri                     136\n",
      "e-learning                               134\n",
      "bimbingan teknis                         130\n",
      "sosialisasi                              123\n",
      "pembelajaran alam terbuka                 94\n",
      "komunitas belajar                         90\n",
      "patok banding                             89\n",
      "studi kasus                               86\n",
      "magang                                    71\n",
      "mentoring                                 62\n",
      "kelompok belajar                          50\n",
      "bimbingan teknis di pekerjaan             50\n",
      "menjadi narasumber                        50\n",
      "menjadi nara sumber                       50\n",
      "kursus                                    50\n",
      "lokakarya                                 50\n",
      "konferensi nasional                       50\n",
      "bimbingan di tempat kerja                 50\n",
      "counseling                                50\n",
      "pelatihan                                 50\n",
      "pelatihan lemhannas                       50\n",
      "pelatihan komunikasi strategis            50\n",
      "pelatihan nasional                        50\n",
      "pelatihan teknis                          50\n",
      "pelatihan kode etik dan kode perilaku     50\n",
      "pelatihan komunikasi efektif              50\n",
      "pelatihan coaching                        50\n",
      "pelatihan kedisiplinan                    50\n",
      "penataran                                 50\n",
      "pembelajarn alam terbuka                  50\n",
      "pelatihan teks                            50\n",
      "pembelajaran                              50\n",
      "penugasan khusus                          50\n",
      "pengembangan                              50\n",
      "pengembangan mandiri                      50\n",
      "penugasan                                 50\n",
      "sarasehan                                 50\n",
      "pertukaran pegawai                        50\n",
      "penugasaran                               50\n",
      "semin                                     50\n",
      "sharing session                           50\n",
      "seminar nasional                          50\n",
      "seminar                                   50\n",
      "workshop                                  50\n",
      "Name: count, dtype: int64\n"
     ]
    }
   ],
   "source": [
    "target_col = \"saran_pengembangan\"\n",
    "\n",
    "# Tentukan jumlah minimal per kelas\n",
    "min_count = 50\n",
    "\n",
    "# Buat list untuk menampung DataFrame hasil replikasi\n",
    "augmented_dfs = []\n",
    "\n",
    "for saran, group in df_final.groupby(target_col):\n",
    "    count = len(group)\n",
    "    if count < min_count:\n",
    "        # Hitung berapa kali perlu direplikasi\n",
    "        repeat_times = min_count // count\n",
    "        remainder = min_count % count\n",
    "\n",
    "        # Duplikasi penuh\n",
    "        df_repeated = pd.concat([group] * repeat_times, ignore_index=True)\n",
    "\n",
    "        # Tambah sisa baris secara acak\n",
    "        if remainder > 0:\n",
    "            df_remainder = group.sample(n=remainder, replace=True, random_state=42)\n",
    "            df_repeated = pd.concat([df_repeated, df_remainder], ignore_index=True)\n",
    "\n",
    "        augmented_dfs.append(df_repeated)\n",
    "    else:\n",
    "        # Kalau jumlah baris sudah cukup, tetap masukkan originalnya\n",
    "        augmented_dfs.append(group)\n",
    "\n",
    "# Gabungkan semua hasilnya\n",
    "df_balanced = pd.concat(augmented_dfs, ignore_index=True)\n",
    "\n",
    "# Cek distribusi baru\n",
    "print(df_balanced[target_col].value_counts())"
   ]
  },
  {
   "cell_type": "markdown",
   "metadata": {
    "id": "EgxDfYsqLxA_"
   },
   "source": [
    "**Training Ulang dengan dataset baru**"
   ]
  },
  {
   "cell_type": "code",
   "execution_count": 51,
   "metadata": {
    "colab": {
     "base_uri": "https://localhost:8080/"
    },
    "executionInfo": {
     "elapsed": 27243,
     "status": "ok",
     "timestamp": 1759933376433,
     "user": {
      "displayName": "Josephine Diva Ayurveda Verol",
      "userId": "12933869282444868046"
     },
     "user_tz": -420
    },
    "id": "KiRpnv5ZLwVU",
    "outputId": "fd9c71eb-da98-494e-e1a2-1ac7abd8c147"
   },
   "outputs": [
    {
     "name": "stdout",
     "output_type": "stream",
     "text": [
      "⚠️ XGBoost tidak terpasang, lewati model XGBClassifier.\n",
      "RandomForest Accuracy: 0.5855\n",
      "GradientBoosting Accuracy: 0.5744\n"
     ]
    },
    {
     "name": "stderr",
     "output_type": "stream",
     "text": [
      "C:\\Users\\josep\\AppData\\Roaming\\Python\\Python313\\site-packages\\sklearn\\linear_model\\_logistic.py:1272: FutureWarning: 'multi_class' was deprecated in version 1.5 and will be removed in 1.8. From then on, it will always use 'multinomial'. Leave it to its default value to avoid this warning.\n",
      "  warnings.warn(\n"
     ]
    },
    {
     "name": "stdout",
     "output_type": "stream",
     "text": [
      "LogisticRegression Accuracy: 0.4957\n",
      "\n",
      "🏆 Model terbaik: RandomForest (Accuracy = 0.5855)\n",
      "✅ Model RandomForest dan LabelEncoder disimpan sebagai 'model_classification_best.joblib' dan 'label_encoder.joblib'\n"
     ]
    }
   ],
   "source": [
    "import pandas as pd\n",
    "from sklearn.model_selection import train_test_split\n",
    "from sklearn.preprocessing import OneHotEncoder, StandardScaler, LabelEncoder\n",
    "from sklearn.compose import ColumnTransformer\n",
    "from sklearn.pipeline import Pipeline\n",
    "from sklearn.ensemble import RandomForestClassifier, GradientBoostingClassifier\n",
    "from sklearn.linear_model import LogisticRegression\n",
    "from sklearn.metrics import accuracy_score\n",
    "from joblib import dump\n",
    "from collections import Counter\n",
    "\n",
    "# --- 1. Siapkan data ---\n",
    "features = [\"kompetensi\", \"standar level\", \"nilai\", \"gap\", \"aspek\", \"feedback_terakhir\"]\n",
    "target = \"saran_pengembangan\"\n",
    "\n",
    "X = df_balanced[features]\n",
    "y = df_balanced[target]\n",
    "\n",
    "num_cols = [\"standar level\", \"nilai\", \"gap\"]\n",
    "cat_cols = [\"kompetensi\", \"aspek\", \"feedback_terakhir\"]\n",
    "\n",
    "preprocessor = ColumnTransformer([\n",
    "    (\"num\", StandardScaler(), num_cols),\n",
    "    (\"cat\", OneHotEncoder(handle_unknown=\"ignore\"), cat_cols),\n",
    "])\n",
    "\n",
    "# Buang kelas yang terlalu sedikit\n",
    "counts = Counter(y)\n",
    "valid_classes = [cls for cls, cnt in counts.items() if cnt >= 2]\n",
    "mask = y.isin(valid_classes)\n",
    "X = X[mask]\n",
    "y = y[mask]\n",
    "\n",
    "# Label encode the target variable\n",
    "label_encoder = LabelEncoder()\n",
    "y_encoded = label_encoder.fit_transform(y)\n",
    "\n",
    "\n",
    "# --- 2. Split data ---\n",
    "X_train, X_test, y_train_encoded, y_test_encoded = train_test_split(\n",
    "    X, y_encoded, stratify=y_encoded, random_state=42, test_size=0.2\n",
    ")\n",
    "\n",
    "# --- 3. Definisikan model ---\n",
    "models = {\n",
    "    \"RandomForest\": RandomForestClassifier(n_estimators=300, random_state=42),\n",
    "    \"GradientBoosting\": GradientBoostingClassifier(random_state=42),\n",
    "    \"LogisticRegression\": LogisticRegression(max_iter=1000, multi_class='auto')\n",
    "}\n",
    "\n",
    "# (Opsional) Jika XGBoost tersedia\n",
    "try:\n",
    "    from xgboost import XGBClassifier\n",
    "    models[\"XGBoost\"] = XGBClassifier(random_state=42)\n",
    "except ImportError:\n",
    "    print(\"⚠️ XGBoost tidak terpasang, lewati model XGBClassifier.\")\n",
    "\n",
    "# --- 4. Latih & Evaluasi semua model ---\n",
    "results = {}\n",
    "\n",
    "for name, model in models.items():\n",
    "    pipe = Pipeline(steps=[(\"pre\", preprocessor), (\"model\", model)])\n",
    "    # Use the encoded target variable for training and evaluation\n",
    "    pipe.fit(X_train, y_train_encoded)\n",
    "    y_pred_encoded = pipe.predict(X_test)\n",
    "    acc = accuracy_score(y_test_encoded, y_pred_encoded)\n",
    "    results[name] = {\"model\": pipe, \"accuracy\": acc}\n",
    "    print(f\"{name} Accuracy: {acc:.4f}\")\n",
    "\n",
    "# --- 5. Pilih model terbaik ---\n",
    "best_model_name = max(results, key=lambda x: results[x][\"accuracy\"])\n",
    "best_model = results[best_model_name][\"model\"]\n",
    "best_acc = results[best_model_name][\"accuracy\"]\n",
    "\n",
    "print(f\"\\n🏆 Model terbaik: {best_model_name} (Accuracy = {best_acc:.4f})\")\n",
    "\n",
    "# --- 6. Simpan model terbaik ---\n",
    "# You may also want to save the LabelEncoder if you need to decode predictions later\n",
    "dump(best_model, \"model_classification_best.joblib\")\n",
    "dump(label_encoder, \"label_encoder.joblib\")\n",
    "print(f\"✅ Model {best_model_name} dan LabelEncoder disimpan sebagai 'model_classification_best.joblib' dan 'label_encoder.joblib'\")"
   ]
  },
  {
   "cell_type": "markdown",
   "metadata": {
    "id": "sib94gl0NFn7"
   },
   "source": [
    "**Hyperparameter Tuning untuk optimisasi**"
   ]
  },
  {
   "cell_type": "code",
   "execution_count": 52,
   "metadata": {
    "colab": {
     "base_uri": "https://localhost:8080/"
    },
    "executionInfo": {
     "elapsed": 738061,
     "status": "ok",
     "timestamp": 1759934140658,
     "user": {
      "displayName": "Josephine Diva Ayurveda Verol",
      "userId": "12933869282444868046"
     },
     "user_tz": -420
    },
    "id": "Gz1QfR90NHFd",
    "outputId": "fb2ab09d-53ff-4ed8-e66e-a9e6eb2b556e"
   },
   "outputs": [
    {
     "name": "stdout",
     "output_type": "stream",
     "text": [
      "Fitting 3 folds for each of 216 candidates, totalling 648 fits\n",
      "\n",
      "🏆 Best Parameters: {'model__max_depth': 20, 'model__max_features': 'sqrt', 'model__min_samples_leaf': 1, 'model__min_samples_split': 2, 'model__n_estimators': 300}\n",
      "📊 Best CV Score: 0.4929912918036123\n",
      "✅ Model RandomForest terbaik tersimpan sebagai 'model_classification_best_tuned_linux.joblib'\n"
     ]
    }
   ],
   "source": [
    "from sklearn.model_selection import GridSearchCV\n",
    "from sklearn.ensemble import RandomForestClassifier\n",
    "from sklearn.pipeline import Pipeline\n",
    "from sklearn.preprocessing import OneHotEncoder, StandardScaler\n",
    "from sklearn.compose import ColumnTransformer\n",
    "\n",
    "# --- 1. Siapkan fitur & preprocessing lagi (pakai df_balanced sekarang) ---\n",
    "features = [\"kompetensi\", \"standar level\", \"nilai\", \"gap\", \"aspek\", \"feedback_terakhir\"]\n",
    "target = \"saran_pengembangan\"\n",
    "\n",
    "X = df_balanced[features]\n",
    "y = df_balanced[target]\n",
    "\n",
    "num_cols = [\"standar level\", \"nilai\", \"gap\"]\n",
    "cat_cols = [\"kompetensi\", \"aspek\", \"feedback_terakhir\"]\n",
    "\n",
    "preprocessor = ColumnTransformer([\n",
    "    (\"num\", StandardScaler(), num_cols),\n",
    "    (\"cat\", OneHotEncoder(handle_unknown=\"ignore\"), cat_cols),\n",
    "])\n",
    "\n",
    "# --- 2. Definisikan pipeline model ---\n",
    "rf_pipe = Pipeline(steps=[\n",
    "    (\"pre\", preprocessor),\n",
    "    (\"model\", RandomForestClassifier(random_state=42))\n",
    "])\n",
    "\n",
    "# --- 3. Parameter grid untuk tuning ---\n",
    "param_grid = {\n",
    "    \"model__n_estimators\": [200, 300, 500],\n",
    "    \"model__max_depth\": [None, 10, 20, 30],\n",
    "    \"model__min_samples_split\": [2, 5, 10],\n",
    "    \"model__min_samples_leaf\": [1, 2, 4],\n",
    "    \"model__max_features\": [\"sqrt\", \"log2\"]\n",
    "}\n",
    "\n",
    "# --- 4. Grid Search ---\n",
    "grid_search = GridSearchCV(\n",
    "    rf_pipe,\n",
    "    param_grid,\n",
    "    cv=3,               # 3-fold cross validation\n",
    "    n_jobs=-1,          # gunakan semua core CPU\n",
    "    verbose=2\n",
    ")\n",
    "\n",
    "grid_search.fit(X, y)\n",
    "\n",
    "# --- 5. Lihat hasil terbaik ---\n",
    "print(\"\\n🏆 Best Parameters:\", grid_search.best_params_)\n",
    "print(\"📊 Best CV Score:\", grid_search.best_score_)\n",
    "\n",
    "# --- 6. Simpan model terbaik ---\n",
    "from joblib import dump\n",
    "best_rf_model = grid_search.best_estimator_\n",
    "# Simpan dengan format cross-platform aman\n",
    "dump(\n",
    "    best_rf_model,\n",
    "    \"model_classification_best_tuned_linux.joblib\",\n",
    "    compress=3,              # opsional, buat file lebih kecil\n",
    "    protocol=4               # <-- penting: protokol aman antar OS\n",
    ")\n",
    "\n",
    "print(\"✅ Model RandomForest terbaik tersimpan sebagai 'model_classification_best_tuned_linux.joblib'\")"
   ]
  },
  {
   "cell_type": "code",
   "execution_count": null,
   "metadata": {
    "colab": {
     "base_uri": "https://localhost:8080/"
    },
    "executionInfo": {
     "elapsed": 1370,
     "status": "ok",
     "timestamp": 1759934550932,
     "user": {
      "displayName": "Josephine Diva Ayurveda Verol",
      "userId": "12933869282444868046"
     },
     "user_tz": -420
    },
    "id": "Iw1C-oYpQbYU",
    "outputId": "a87a6de9-e053-45b8-cdb8-c5459635b0ad"
   },
   "outputs": [
    {
     "name": "stderr",
     "output_type": "stream",
     "text": [
      "<>:2: SyntaxWarning: invalid escape sequence '\\J'\n",
      "<>:2: SyntaxWarning: invalid escape sequence '\\J'\n",
      "C:\\Users\\josep\\AppData\\Local\\Temp\\ipykernel_6804\\1544732116.py:2: SyntaxWarning: invalid escape sequence '\\J'\n",
      "  clf_model = load(\"C:\\Josephine Work File - 2025\\Latsar Aktualisasi\\sistem-rekomendasi-saran-pengembangan\\model\\model_classification_best_tuned.joblib\")\n",
      "C:\\Users\\josep\\AppData\\Local\\Temp\\ipykernel_6804\\1544732116.py:2: SyntaxWarning: invalid escape sequence '\\J'\n",
      "  clf_model = load(\"C:\\Josephine Work File - 2025\\Latsar Aktualisasi\\sistem-rekomendasi-saran-pengembangan\\model\\model_classification_best_tuned.joblib\")\n"
     ]
    },
    {
     "ename": "FileNotFoundError",
     "evalue": "[Errno 2] No such file or directory: 'C:\\\\Josephine Work File - 2025\\\\Latsar Aktualisasi\\\\sistem-rekomendasi-saran-pengembangan\\\\model\\\\model_classification_best_tuned.joblib'",
     "output_type": "error",
     "traceback": [
      "\u001b[31m---------------------------------------------------------------------------\u001b[39m",
      "\u001b[31mFileNotFoundError\u001b[39m                         Traceback (most recent call last)",
      "\u001b[36mCell\u001b[39m\u001b[36m \u001b[39m\u001b[32mIn[53]\u001b[39m\u001b[32m, line 2\u001b[39m\n\u001b[32m      1\u001b[39m \u001b[38;5;66;03m# === 1. Load model klasifikasi ===\u001b[39;00m\n\u001b[32m----> \u001b[39m\u001b[32m2\u001b[39m clf_model = \u001b[43mload\u001b[49m\u001b[43m(\u001b[49m\u001b[33;43m\"\u001b[39;49m\u001b[33;43mC:\u001b[39;49m\u001b[33;43m\\\u001b[39;49m\u001b[33;43mJosephine Work File - 2025\u001b[39;49m\u001b[33;43m\\\u001b[39;49m\u001b[33;43mLatsar Aktualisasi\u001b[39;49m\u001b[33;43m\\\u001b[39;49m\u001b[33;43msistem-rekomendasi-saran-pengembangan\u001b[39;49m\u001b[33;43m\\\u001b[39;49m\u001b[33;43mmodel\u001b[39;49m\u001b[33;43m\\\u001b[39;49m\u001b[33;43mmodel_classification_best_tuned.joblib\u001b[39;49m\u001b[33;43m\"\u001b[39;49m\u001b[43m)\u001b[49m\n\u001b[32m      4\u001b[39m \u001b[38;5;66;03m# === 2. Contoh data pegawai baru ===\u001b[39;00m\n\u001b[32m      5\u001b[39m pegawai_baru = pd.DataFrame([{\n\u001b[32m      6\u001b[39m     \u001b[33m\"\u001b[39m\u001b[33mkompetensi\u001b[39m\u001b[33m\"\u001b[39m: \u001b[33m\"\u001b[39m\u001b[33mintegritas\u001b[39m\u001b[33m\"\u001b[39m,\n\u001b[32m      7\u001b[39m     \u001b[33m\"\u001b[39m\u001b[33mstandar level\u001b[39m\u001b[33m\"\u001b[39m: \u001b[32m4\u001b[39m,\n\u001b[32m   (...)\u001b[39m\u001b[32m     11\u001b[39m     \u001b[33m\"\u001b[39m\u001b[33mfeedback_terakhir\u001b[39m\u001b[33m\"\u001b[39m: \u001b[33m\"\u001b[39m\u001b[33mtidak ada\u001b[39m\u001b[33m\"\u001b[39m\n\u001b[32m     12\u001b[39m }])\n",
      "\u001b[36mFile \u001b[39m\u001b[32m~\\AppData\\Roaming\\Python\\Python313\\site-packages\\joblib\\numpy_pickle.py:735\u001b[39m, in \u001b[36mload\u001b[39m\u001b[34m(filename, mmap_mode, ensure_native_byte_order)\u001b[39m\n\u001b[32m    733\u001b[39m         obj = _unpickle(fobj, ensure_native_byte_order=ensure_native_byte_order)\n\u001b[32m    734\u001b[39m \u001b[38;5;28;01melse\u001b[39;00m:\n\u001b[32m--> \u001b[39m\u001b[32m735\u001b[39m     \u001b[38;5;28;01mwith\u001b[39;00m \u001b[38;5;28;43mopen\u001b[39;49m\u001b[43m(\u001b[49m\u001b[43mfilename\u001b[49m\u001b[43m,\u001b[49m\u001b[43m \u001b[49m\u001b[33;43m\"\u001b[39;49m\u001b[33;43mrb\u001b[39;49m\u001b[33;43m\"\u001b[39;49m\u001b[43m)\u001b[49m \u001b[38;5;28;01mas\u001b[39;00m f:\n\u001b[32m    736\u001b[39m         \u001b[38;5;28;01mwith\u001b[39;00m _validate_fileobject_and_memmap(f, filename, mmap_mode) \u001b[38;5;28;01mas\u001b[39;00m (\n\u001b[32m    737\u001b[39m             fobj,\n\u001b[32m    738\u001b[39m             validated_mmap_mode,\n\u001b[32m    739\u001b[39m         ):\n\u001b[32m    740\u001b[39m             \u001b[38;5;28;01mif\u001b[39;00m \u001b[38;5;28misinstance\u001b[39m(fobj, \u001b[38;5;28mstr\u001b[39m):\n\u001b[32m    741\u001b[39m                 \u001b[38;5;66;03m# if the returned file object is a string, this means we\u001b[39;00m\n\u001b[32m    742\u001b[39m                 \u001b[38;5;66;03m# try to load a pickle file generated with an version of\u001b[39;00m\n\u001b[32m    743\u001b[39m                 \u001b[38;5;66;03m# Joblib so we load it with joblib compatibility function.\u001b[39;00m\n",
      "\u001b[31mFileNotFoundError\u001b[39m: [Errno 2] No such file or directory: 'C:\\\\Josephine Work File - 2025\\\\Latsar Aktualisasi\\\\sistem-rekomendasi-saran-pengembangan\\\\model\\\\model_classification_best_tuned.joblib'"
     ]
    }
   ],
   "source": [
    "# === 1. Load model klasifikasi ===\n",
    "clf_model = load(\"C:\\Josephine Work File - 2025\\Latsar Aktualisasi\\sistem-rekomendasi-saran-pengembangan\\model\\model_classification_best_tuned_linux.joblib\")\n",
    "\n",
    "# === 2. Contoh data pegawai baru ===\n",
    "pegawai_baru = pd.DataFrame([{\n",
    "    \"kompetensi\": \"integritas\",\n",
    "    \"standar level\": 4,\n",
    "    \"nilai\": 1,\n",
    "    \"gap\": -3,\n",
    "    \"aspek\" : \"pengetahuan\",\n",
    "    \"feedback_terakhir\": \"tidak ada\"\n",
    "}])\n",
    "\n",
    "# === 3. Prediksi probabilitas untuk semua kelas (saran pengembangan) ===\n",
    "proba_clf = clf_model.predict_proba(pegawai_baru)[0]\n",
    "\n",
    "# Ambil daftar kelas dari model (urutan sama dengan probabilitas)\n",
    "clf_classes = clf_model.named_steps[\"model\"].classes_\n",
    "\n",
    "# === 4. Buat dictionary skor ===\n",
    "scores = {clf_classes[i]: proba_clf[i] for i in range(len(clf_classes))}\n",
    "\n",
    "# === 5. Ambil Top-3 rekomendasi ===\n",
    "top_rekom = sorted(scores.items(), key=lambda x: x[1], reverse=True)[:3]\n",
    "\n",
    "# === 6. Tampilkan hasil ===\n",
    "print(\"Top-3 Rekomendasi Saran Pengembangan:\")\n",
    "for rank, (saran, score) in enumerate(top_rekom, start=1):\n",
    "    print(f\"{rank}. {saran} (score: {score:.3f})\")"
   ]
  },
  {
   "cell_type": "code",
   "execution_count": null,
   "metadata": {},
   "outputs": [],
   "source": [
    "df_balanced.to_csv('dataset_final.csv', index=False)"
   ]
  }
 ],
 "metadata": {
  "colab": {
   "authorship_tag": "ABX9TyMYWEDGPp6zuNInvaD4wsFl",
   "collapsed_sections": [
    "okUxsoYF4Jhr",
    "bojMuEtAPHLN",
    "K_YyC0lMPrvg",
    "N181_P8fSfsD"
   ],
   "provenance": []
  },
  "kernelspec": {
   "display_name": "Python 3",
   "name": "python3"
  },
  "language_info": {
   "codemirror_mode": {
    "name": "ipython",
    "version": 3
   },
   "file_extension": ".py",
   "mimetype": "text/x-python",
   "name": "python",
   "nbconvert_exporter": "python",
   "pygments_lexer": "ipython3",
   "version": "3.13.5"
  }
 },
 "nbformat": 4,
 "nbformat_minor": 0
}
